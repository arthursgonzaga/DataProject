{
  "nbformat": 4,
  "nbformat_minor": 0,
  "metadata": {
    "colab": {
      "name": "Acidentes_Brasil",
      "provenance": [],
      "collapsed_sections": [
        "PG0OuD32IukT"
      ]
    },
    "kernelspec": {
      "name": "python3",
      "display_name": "Python 3"
    }
  },
  "cells": [
    {
      "cell_type": "markdown",
      "metadata": {
        "id": "P4weAIrFGIda"
      },
      "source": [
        "#Tratamento dos Dados"
      ]
    },
    {
      "cell_type": "code",
      "metadata": {
        "id": "iIU89fkTGFPg"
      },
      "source": [
        "import pandas as pd\n",
        "import numpy as np\n",
        "import matplotlib.pyplot as plt\n",
        "import seaborn as sns\n",
        "import matplotlib as mpl\n",
        "from matplotlib import cm\n",
        "from collections import OrderedDict"
      ],
      "execution_count": null,
      "outputs": []
    },
    {
      "cell_type": "code",
      "metadata": {
        "id": "4kk_79PgHV-q",
        "colab": {
          "base_uri": "https://localhost:8080/",
          "height": 435
        },
        "outputId": "5b72e7f5-1aa9-4932-b6a5-6f8b97b8f3d1"
      },
      "source": [
        "dataPrev = pd.read_csv(\"/content/drive/MyDrive/Datasets/Teste.csv\",sep=';')\n",
        "\n",
        "dataPrev.head()"
      ],
      "execution_count": null,
      "outputs": [
        {
          "output_type": "execute_result",
          "data": {
            "text/html": [
              "<div>\n",
              "<style scoped>\n",
              "    .dataframe tbody tr th:only-of-type {\n",
              "        vertical-align: middle;\n",
              "    }\n",
              "\n",
              "    .dataframe tbody tr th {\n",
              "        vertical-align: top;\n",
              "    }\n",
              "\n",
              "    .dataframe thead th {\n",
              "        text-align: right;\n",
              "    }\n",
              "</style>\n",
              "<table border=\"1\" class=\"dataframe\">\n",
              "  <thead>\n",
              "    <tr style=\"text-align: right;\">\n",
              "      <th></th>\n",
              "      <th>Agente  Causador  Acidente</th>\n",
              "      <th>Data Acidente</th>\n",
              "      <th>CBO</th>\n",
              "      <th>CBO.1</th>\n",
              "      <th>CID-10</th>\n",
              "      <th>CID-10.1</th>\n",
              "      <th>CNAE2.0 Empregador</th>\n",
              "      <th>CNAE2.0 Empregador.1</th>\n",
              "      <th>Emitente CAT</th>\n",
              "      <th>Espécie do benefício</th>\n",
              "      <th>Filiação Segurado</th>\n",
              "      <th>Indica acidente</th>\n",
              "      <th>Munic Empr</th>\n",
              "      <th>Natureza da Lesão</th>\n",
              "      <th>Origem de Cadastramento CAT</th>\n",
              "      <th>Parte Corpo Atingida</th>\n",
              "      <th>Sexo</th>\n",
              "      <th>Tipo do Acidente</th>\n",
              "      <th>UF  Munic.  Acidente</th>\n",
              "      <th>UF Munic. Empregador</th>\n",
              "      <th>Data  Afastamento</th>\n",
              "      <th>Data Despacho Benefício</th>\n",
              "      <th>Data Acidente.1</th>\n",
              "      <th>Data Nascimento</th>\n",
              "      <th>Data Emissão CAT</th>\n",
              "    </tr>\n",
              "  </thead>\n",
              "  <tbody>\n",
              "    <tr>\n",
              "      <th>0</th>\n",
              "      <td>Vidraria, Fibra de V</td>\n",
              "      <td>2020/01</td>\n",
              "      <td>322230</td>\n",
              "      <td>322230-Auxiliar de E</td>\n",
              "      <td>S610</td>\n",
              "      <td>S61.0 Ferim de Dedos</td>\n",
              "      <td>9491</td>\n",
              "      <td>Atividades de Organi</td>\n",
              "      <td>Empregador</td>\n",
              "      <td>Pa</td>\n",
              "      <td>Empregado</td>\n",
              "      <td>Não</td>\n",
              "      <td>351880-Guarulhos</td>\n",
              "      <td>Lesao Imediata</td>\n",
              "      <td>Internet</td>\n",
              "      <td>Dedo</td>\n",
              "      <td>Feminino</td>\n",
              "      <td>Típico</td>\n",
              "      <td>Maranhão</td>\n",
              "      <td>São Paulo</td>\n",
              "      <td>0000/00</td>\n",
              "      <td>0000/00</td>\n",
              "      <td>01/01/2020</td>\n",
              "      <td>07/09/1977</td>\n",
              "      <td>02/01/2020</td>\n",
              "    </tr>\n",
              "    <tr>\n",
              "      <th>1</th>\n",
              "      <td>Agente Infeccioso ou</td>\n",
              "      <td>2020/01</td>\n",
              "      <td>322205</td>\n",
              "      <td>322205-Tec. de Enfer</td>\n",
              "      <td>Z209</td>\n",
              "      <td>Z20.9 Contato Exposi</td>\n",
              "      <td>8610</td>\n",
              "      <td>Atividades de Atendi</td>\n",
              "      <td>Empregador</td>\n",
              "      <td>Pa</td>\n",
              "      <td>Empregado</td>\n",
              "      <td>Não</td>\n",
              "      <td>230440-Fortaleza</td>\n",
              "      <td>Corte, Laceracao, Fe</td>\n",
              "      <td>Internet</td>\n",
              "      <td>Dedo</td>\n",
              "      <td>Feminino</td>\n",
              "      <td>Típico</td>\n",
              "      <td>{ñ class}</td>\n",
              "      <td>Ceará</td>\n",
              "      <td>0000/00</td>\n",
              "      <td>0000/00</td>\n",
              "      <td>02/01/2020</td>\n",
              "      <td>27/11/1987</td>\n",
              "      <td>02/01/2020</td>\n",
              "    </tr>\n",
              "    <tr>\n",
              "      <th>2</th>\n",
              "      <td>{ñ class}</td>\n",
              "      <td>2020/01</td>\n",
              "      <td>322205</td>\n",
              "      <td>322205-Tec. de Enfer</td>\n",
              "      <td>Y289</td>\n",
              "      <td>Y28.9 Local Ne</td>\n",
              "      <td>8610</td>\n",
              "      <td>Atividades de Atendi</td>\n",
              "      <td>Empregador</td>\n",
              "      <td>Pa</td>\n",
              "      <td>Empregado</td>\n",
              "      <td>Não</td>\n",
              "      <td>355030-São Paulo</td>\n",
              "      <td>Corte, Laceracao, Fe</td>\n",
              "      <td>Internet</td>\n",
              "      <td>Dedo</td>\n",
              "      <td>Masculino</td>\n",
              "      <td>Típico</td>\n",
              "      <td>Maranhão</td>\n",
              "      <td>São Paulo</td>\n",
              "      <td>0000/00</td>\n",
              "      <td>0000/00</td>\n",
              "      <td>01/01/2020</td>\n",
              "      <td>03/01/1983</td>\n",
              "      <td>02/01/2020</td>\n",
              "    </tr>\n",
              "    <tr>\n",
              "      <th>3</th>\n",
              "      <td>Motor, Bomba, Turbin</td>\n",
              "      <td>2020/01</td>\n",
              "      <td>314410</td>\n",
              "      <td>314410-Tec. em Manut</td>\n",
              "      <td>S610</td>\n",
              "      <td>S61.0 Ferim de Dedos</td>\n",
              "      <td>1012</td>\n",
              "      <td>Abate de Suinos, Ave</td>\n",
              "      <td>Empregador</td>\n",
              "      <td>Pa</td>\n",
              "      <td>Empregado</td>\n",
              "      <td>Não</td>\n",
              "      <td>420010-Abelardo Luz</td>\n",
              "      <td>Corte, Laceracao, Fe</td>\n",
              "      <td>Internet</td>\n",
              "      <td>Dedo</td>\n",
              "      <td>Masculino</td>\n",
              "      <td>Típico</td>\n",
              "      <td>{ñ class}</td>\n",
              "      <td>Santa Catarina</td>\n",
              "      <td>0000/00</td>\n",
              "      <td>0000/00</td>\n",
              "      <td>02/01/2020</td>\n",
              "      <td>08/10/1988</td>\n",
              "      <td>02/01/2020</td>\n",
              "    </tr>\n",
              "    <tr>\n",
              "      <th>4</th>\n",
              "      <td>Ferramenta Portatil</td>\n",
              "      <td>2020/01</td>\n",
              "      <td>724315</td>\n",
              "      <td>724315-Soldador</td>\n",
              "      <td>S610</td>\n",
              "      <td>S61.0 Ferim de Dedos</td>\n",
              "      <td>2599</td>\n",
              "      <td>Fabricacao de Produt</td>\n",
              "      <td>Empregador</td>\n",
              "      <td>Pa</td>\n",
              "      <td>Empregado</td>\n",
              "      <td>Não</td>\n",
              "      <td>310620-Belo Horizont</td>\n",
              "      <td>Corte, Laceracao, Fe</td>\n",
              "      <td>Internet</td>\n",
              "      <td>Dedo</td>\n",
              "      <td>Masculino</td>\n",
              "      <td>Típico</td>\n",
              "      <td>Rondônia</td>\n",
              "      <td>Minas Gerais</td>\n",
              "      <td>2020/01</td>\n",
              "      <td>0000/00</td>\n",
              "      <td>02/01/2020</td>\n",
              "      <td>10/06/1976</td>\n",
              "      <td>02/01/2020</td>\n",
              "    </tr>\n",
              "  </tbody>\n",
              "</table>\n",
              "</div>"
            ],
            "text/plain": [
              "  Agente  Causador  Acidente Data Acidente  ...  Data Nascimento Data Emissão CAT\n",
              "0       Vidraria, Fibra de V       2020/01  ...       07/09/1977       02/01/2020\n",
              "1       Agente Infeccioso ou       2020/01  ...       27/11/1987       02/01/2020\n",
              "2       {ñ class}                  2020/01  ...       03/01/1983       02/01/2020\n",
              "3       Motor, Bomba, Turbin       2020/01  ...       08/10/1988       02/01/2020\n",
              "4       Ferramenta Portatil        2020/01  ...       10/06/1976       02/01/2020\n",
              "\n",
              "[5 rows x 25 columns]"
            ]
          },
          "metadata": {
            "tags": []
          },
          "execution_count": 3
        }
      ]
    },
    {
      "cell_type": "code",
      "metadata": {
        "colab": {
          "base_uri": "https://localhost:8080/"
        },
        "id": "2EYYB6BkJ1Ea",
        "outputId": "2685c4d6-a048-4e9b-8847-d6d810731ac5"
      },
      "source": [
        "dataPrev.shape"
      ],
      "execution_count": null,
      "outputs": [
        {
          "output_type": "execute_result",
          "data": {
            "text/plain": [
              "(81264, 25)"
            ]
          },
          "metadata": {
            "tags": []
          },
          "execution_count": 60
        }
      ]
    },
    {
      "cell_type": "code",
      "metadata": {
        "id": "6f_sOsmyN6xI"
      },
      "source": [
        ""
      ],
      "execution_count": null,
      "outputs": []
    },
    {
      "cell_type": "markdown",
      "metadata": {
        "id": "-YkGOAU3UB-Q"
      },
      "source": [
        "# Estudo das Partes do Corpo de Maiores Ocorrências"
      ]
    },
    {
      "cell_type": "code",
      "metadata": {
        "id": "smuWuhfmKK1O",
        "colab": {
          "base_uri": "https://localhost:8080/",
          "height": 206
        },
        "outputId": "5e595a10-3669-43b0-9b69-f518ccdcce9b"
      },
      "source": [
        "localLesao = dataPrev['Parte Corpo Atingida']\n",
        "localLesao = localLesao.value_counts().to_frame().reset_index()\n",
        "localLesao.columns = ['Local','Total']\n",
        "localLesao.head()"
      ],
      "execution_count": null,
      "outputs": [
        {
          "output_type": "execute_result",
          "data": {
            "text/html": [
              "<div>\n",
              "<style scoped>\n",
              "    .dataframe tbody tr th:only-of-type {\n",
              "        vertical-align: middle;\n",
              "    }\n",
              "\n",
              "    .dataframe tbody tr th {\n",
              "        vertical-align: top;\n",
              "    }\n",
              "\n",
              "    .dataframe thead th {\n",
              "        text-align: right;\n",
              "    }\n",
              "</style>\n",
              "<table border=\"1\" class=\"dataframe\">\n",
              "  <thead>\n",
              "    <tr style=\"text-align: right;\">\n",
              "      <th></th>\n",
              "      <th>Local</th>\n",
              "      <th>Total</th>\n",
              "    </tr>\n",
              "  </thead>\n",
              "  <tbody>\n",
              "    <tr>\n",
              "      <th>0</th>\n",
              "      <td>Dedo</td>\n",
              "      <td>22678</td>\n",
              "    </tr>\n",
              "    <tr>\n",
              "      <th>1</th>\n",
              "      <td>Pe (Exceto Artelhos)</td>\n",
              "      <td>7184</td>\n",
              "    </tr>\n",
              "    <tr>\n",
              "      <th>2</th>\n",
              "      <td>Mao (Exceto Punho ou</td>\n",
              "      <td>6473</td>\n",
              "    </tr>\n",
              "    <tr>\n",
              "      <th>3</th>\n",
              "      <td>Joelho</td>\n",
              "      <td>3372</td>\n",
              "    </tr>\n",
              "    <tr>\n",
              "      <th>4</th>\n",
              "      <td>Olho (Inclusive Nerv</td>\n",
              "      <td>3036</td>\n",
              "    </tr>\n",
              "  </tbody>\n",
              "</table>\n",
              "</div>"
            ],
            "text/plain": [
              "                  Local  Total\n",
              "0  Dedo                  22678\n",
              "1  Pe (Exceto Artelhos)   7184\n",
              "2  Mao (Exceto Punho ou   6473\n",
              "3  Joelho                 3372\n",
              "4  Olho (Inclusive Nerv   3036"
            ]
          },
          "metadata": {
            "tags": []
          },
          "execution_count": 4
        }
      ]
    },
    {
      "cell_type": "code",
      "metadata": {
        "id": "jvKoJ2hxUemo"
      },
      "source": [
        "#Categorizando\n",
        "#refina_local = ['Pés','Mãos','Braços','Pernas','Tronco','Cabeça','Quadril']\n",
        "Pes = ['Artelho','Pe (Exceto Artelhos)']\n",
        "Maos = ['Mao','Punho','Dedos']\n",
        "NC = ['{ñ class}           ']\n",
        "\n",
        "\n",
        "selecao = localLesao['Local'].isin(Pes)\n",
        "localLesao.replace(to_replace=Pes,value='Pés',inplace=True)"
      ],
      "execution_count": null,
      "outputs": []
    },
    {
      "cell_type": "code",
      "metadata": {
        "id": "1eJHC3NBWv0S",
        "colab": {
          "base_uri": "https://localhost:8080/"
        },
        "outputId": "6d584dba-9393-4825-dd36-9d4aeaf3a277"
      },
      "source": [
        "for x in range(len(Pes)):\n",
        "  localLesao.loc[localLesao.Local.str.contains(Pes[x]),'Local'] = 'Pés'"
      ],
      "execution_count": null,
      "outputs": [
        {
          "output_type": "stream",
          "text": [
            "/usr/local/lib/python3.6/dist-packages/pandas/core/strings.py:2001: UserWarning: This pattern has match groups. To actually get the groups, use str.extract.\n",
            "  return func(self, *args, **kwargs)\n"
          ],
          "name": "stderr"
        }
      ]
    },
    {
      "cell_type": "code",
      "metadata": {
        "id": "KZca61Igj-uu"
      },
      "source": [
        "NC = ['{ñ class}','Localizaca','Partes Multipla']\n",
        "for x in range(len(NC)):\n",
        "  localLesao.loc[localLesao.Local.str.contains(NC[x]),'Local'] = 'Não Classificado'"
      ],
      "execution_count": null,
      "outputs": []
    },
    {
      "cell_type": "code",
      "metadata": {
        "id": "Qs4NgHJkk4-s"
      },
      "source": [
        "for x in range(len(Maos)):\n",
        "  localLesao.loc[localLesao.Local.str.contains(Maos[x]),'Local'] = 'Mãos'"
      ],
      "execution_count": null,
      "outputs": []
    },
    {
      "cell_type": "code",
      "metadata": {
        "id": "LBvpH012mpKe"
      },
      "source": [
        "Tronco = ['Tronco','Dorso','Torno','Respira','Digestivo','Circulatorio','Torax','Nervoso','Musculo-Esq','Abdome','Ombro','Circula']\n",
        "for x in range(len(Tronco)):\n",
        "  localLesao.loc[localLesao.Local.str.contains(Tronco[x]),'Local'] = 'Tronco'"
      ],
      "execution_count": null,
      "outputs": []
    },
    {
      "cell_type": "code",
      "metadata": {
        "id": "T8lr5kbwnkK3"
      },
      "source": [
        "Braco = ['Superiores','Cotovelo','Braco','Antebraco']\n",
        "for x in range(len(Braco)):\n",
        "  localLesao.loc[localLesao.Local.str.contains(Braco[x]),'Local'] = 'Braco'"
      ],
      "execution_count": null,
      "outputs": []
    },
    {
      "cell_type": "code",
      "metadata": {
        "id": "GmjWPen-n-Xu"
      },
      "source": [
        "Pernas = ['Inferiores','Joelho','Coxa','Perna']\n",
        "for x in range(len(Pernas)):\n",
        "  localLesao.loc[localLesao.Local.str.contains(Pernas[x]),'Local'] = 'Pernas'"
      ],
      "execution_count": null,
      "outputs": []
    },
    {
      "cell_type": "code",
      "metadata": {
        "id": "NqQWWE1boVZx"
      },
      "source": [
        "Cabeca = ['Nariz','Cabeca','Mandibula','Face','Cranio','Boca','Olho','Ouvido','Pescoco']\n",
        "for x in range(len(Cabeca)):\n",
        "  localLesao.loc[localLesao.Local.str.contains(Cabeca[x]),'Local'] = 'Cabeça'"
      ],
      "execution_count": null,
      "outputs": []
    },
    {
      "cell_type": "code",
      "metadata": {
        "id": "DRfwuKnOp-tl"
      },
      "source": [
        "Quadris = ['Quadris','Sistema','Genito']\n",
        "for x in range(len(Quadris)):\n",
        "  localLesao.loc[localLesao.Local.str.contains(Quadris[x]),'Local'] = 'Quadril'"
      ],
      "execution_count": null,
      "outputs": []
    },
    {
      "cell_type": "code",
      "metadata": {
        "id": "jS7VqB0qZUIj"
      },
      "source": [
        "localLesao = localLesao.groupby('Local').sum()\n",
        "localLesao.reset_index(inplace=True)\n"
      ],
      "execution_count": null,
      "outputs": []
    },
    {
      "cell_type": "code",
      "metadata": {
        "id": "fekfRNBhNGQi",
        "colab": {
          "base_uri": "https://localhost:8080/",
          "height": 81
        },
        "outputId": "14678434-5232-4dbb-bccf-ec1853162658"
      },
      "source": [
        "maxIndexLesao = localLesao.Total.idxmax()\n",
        "localLesao.query(\"index== @maxIndexLesao\")"
      ],
      "execution_count": null,
      "outputs": [
        {
          "output_type": "execute_result",
          "data": {
            "text/html": [
              "<div>\n",
              "<style scoped>\n",
              "    .dataframe tbody tr th:only-of-type {\n",
              "        vertical-align: middle;\n",
              "    }\n",
              "\n",
              "    .dataframe tbody tr th {\n",
              "        vertical-align: top;\n",
              "    }\n",
              "\n",
              "    .dataframe thead th {\n",
              "        text-align: right;\n",
              "    }\n",
              "</style>\n",
              "<table border=\"1\" class=\"dataframe\">\n",
              "  <thead>\n",
              "    <tr style=\"text-align: right;\">\n",
              "      <th></th>\n",
              "      <th>Local</th>\n",
              "      <th>Total</th>\n",
              "    </tr>\n",
              "  </thead>\n",
              "  <tbody>\n",
              "    <tr>\n",
              "      <th>2</th>\n",
              "      <td>Dedo</td>\n",
              "      <td>22678</td>\n",
              "    </tr>\n",
              "  </tbody>\n",
              "</table>\n",
              "</div>"
            ],
            "text/plain": [
              "                  Local  Total\n",
              "2  Dedo                  22678"
            ]
          },
          "metadata": {
            "tags": []
          },
          "execution_count": 15
        }
      ]
    },
    {
      "cell_type": "code",
      "metadata": {
        "id": "_0N72ocNwdlB"
      },
      "source": [
        "localLesao.sort_values(by=\"Total\",ascending=False,inplace=True)"
      ],
      "execution_count": null,
      "outputs": []
    },
    {
      "cell_type": "code",
      "metadata": {
        "id": "7ZWAXluO7Ae6"
      },
      "source": [
        "  localLesao.loc[localLesao.Local.str.contains(\"Dedo\"),'Local'] = 'Dedo'"
      ],
      "execution_count": null,
      "outputs": []
    },
    {
      "cell_type": "code",
      "metadata": {
        "id": "HFChNQyYy1oO",
        "colab": {
          "base_uri": "https://localhost:8080/",
          "height": 332
        },
        "outputId": "7921cff0-7034-40a0-fce5-abf13a0879a4"
      },
      "source": [
        "#localLesao.drop(columns=['level_0','index'],inplace=True)\n",
        "localLesao.index = range(localLesao.shape[0])\n",
        "localLesao"
      ],
      "execution_count": null,
      "outputs": [
        {
          "output_type": "execute_result",
          "data": {
            "text/html": [
              "<div>\n",
              "<style scoped>\n",
              "    .dataframe tbody tr th:only-of-type {\n",
              "        vertical-align: middle;\n",
              "    }\n",
              "\n",
              "    .dataframe tbody tr th {\n",
              "        vertical-align: top;\n",
              "    }\n",
              "\n",
              "    .dataframe thead th {\n",
              "        text-align: right;\n",
              "    }\n",
              "</style>\n",
              "<table border=\"1\" class=\"dataframe\">\n",
              "  <thead>\n",
              "    <tr style=\"text-align: right;\">\n",
              "      <th></th>\n",
              "      <th>Local</th>\n",
              "      <th>Total</th>\n",
              "    </tr>\n",
              "  </thead>\n",
              "  <tbody>\n",
              "    <tr>\n",
              "      <th>0</th>\n",
              "      <td>Dedo</td>\n",
              "      <td>22678</td>\n",
              "    </tr>\n",
              "    <tr>\n",
              "      <th>1</th>\n",
              "      <td>Tronco</td>\n",
              "      <td>16087</td>\n",
              "    </tr>\n",
              "    <tr>\n",
              "      <th>2</th>\n",
              "      <td>Mãos</td>\n",
              "      <td>10930</td>\n",
              "    </tr>\n",
              "    <tr>\n",
              "      <th>3</th>\n",
              "      <td>Cabeça</td>\n",
              "      <td>9146</td>\n",
              "    </tr>\n",
              "    <tr>\n",
              "      <th>4</th>\n",
              "      <td>Pés</td>\n",
              "      <td>7715</td>\n",
              "    </tr>\n",
              "    <tr>\n",
              "      <th>5</th>\n",
              "      <td>Pernas</td>\n",
              "      <td>5748</td>\n",
              "    </tr>\n",
              "    <tr>\n",
              "      <th>6</th>\n",
              "      <td>Braco</td>\n",
              "      <td>5391</td>\n",
              "    </tr>\n",
              "    <tr>\n",
              "      <th>7</th>\n",
              "      <td>Não Classificado</td>\n",
              "      <td>2635</td>\n",
              "    </tr>\n",
              "    <tr>\n",
              "      <th>8</th>\n",
              "      <td>Quadril</td>\n",
              "      <td>934</td>\n",
              "    </tr>\n",
              "  </tbody>\n",
              "</table>\n",
              "</div>"
            ],
            "text/plain": [
              "              Local  Total\n",
              "0              Dedo  22678\n",
              "1            Tronco  16087\n",
              "2              Mãos  10930\n",
              "3            Cabeça   9146\n",
              "4               Pés   7715\n",
              "5            Pernas   5748\n",
              "6             Braco   5391\n",
              "7  Não Classificado   2635\n",
              "8           Quadril    934"
            ]
          },
          "metadata": {
            "tags": []
          },
          "execution_count": 18
        }
      ]
    },
    {
      "cell_type": "code",
      "metadata": {
        "id": "CGun_NPttIFQ",
        "colab": {
          "base_uri": "https://localhost:8080/",
          "height": 297
        },
        "outputId": "56efedc3-164d-4d7e-fe89-27fe5525e4e7"
      },
      "source": [
        "sns.barplot(\n",
        "    x = 'Local',\n",
        "    y = 'Total',\n",
        "    data = localLesao,\n",
        "    palette = \"autumn\",\n",
        ")"
      ],
      "execution_count": null,
      "outputs": [
        {
          "output_type": "execute_result",
          "data": {
            "text/plain": [
              "<matplotlib.axes._subplots.AxesSubplot at 0x7fd053f6aac8>"
            ]
          },
          "metadata": {
            "tags": []
          },
          "execution_count": 19
        },
        {
          "output_type": "display_data",
          "data": {
            "image/png": "[encoded data removed]",
            "text/plain": [
              "<Figure size 432x288 with 1 Axes>"
            ]
          },
          "metadata": {
            "tags": [],
            "needs_background": "light"
          }
        }
      ]
    },
    {
      "cell_type": "code",
      "metadata": {
        "id": "QD3fQqX000w1",
        "colab": {
          "base_uri": "https://localhost:8080/",
          "height": 259
        },
        "outputId": "e78397c5-9e4c-4a3b-cd87-bf6636f7a129"
      },
      "source": [
        "%matplotlib inline\n",
        "\n",
        "plt.rcParams[\"figure.figsize\"] = (20,3)\n",
        "area = plt.figure()\n",
        "x = plt.bar(x=localLesao.Local,\n",
        "            height=localLesao.Total,\n",
        "            color=['#f51b1b','#ed4e4e','#ff6464','#ff8264','#ff9642','#ffba42','#ffd942','#ffe05d','#fff18a'])\n",
        "plt.xlabel('Região do Corpo')\n",
        "plt.ylabel('Quantidade')\n",
        "plt.title(\"Quantidade de Acidentes por Região do Corpo\")"
      ],
      "execution_count": null,
      "outputs": [
        {
          "output_type": "execute_result",
          "data": {
            "text/plain": [
              "Text(0.5, 1.0, 'Quantidade de Acidentes por Região do Corpo')"
            ]
          },
          "metadata": {
            "tags": []
          },
          "execution_count": 20
        },
        {
          "output_type": "display_data",
          "data": {
            "image/png": "[encoded data removed]",
            "text/plain": [
              "<Figure size 1440x216 with 1 Axes>"
            ]
          },
          "metadata": {
            "tags": [],
            "needs_background": "light"
          }
        }
      ]
    },
    {
      "cell_type": "code",
      "metadata": {
        "id": "UnfvSNMU7XNq"
      },
      "source": [
        "area.savefig('Gráfico_Acidentes.png',dpi=300,bbox_inches='tight')"
      ],
      "execution_count": null,
      "outputs": []
    },
    {
      "cell_type": "markdown",
      "metadata": {
        "id": "IloMO2rAUTSI"
      },
      "source": [
        "#Estudo por Sexo"
      ]
    },
    {
      "cell_type": "code",
      "metadata": {
        "id": "lzAgyEPLUXIg",
        "colab": {
          "base_uri": "https://localhost:8080/",
          "height": 175
        },
        "outputId": "ff7aa482-9170-47a9-ce93-e65b88ad38e3"
      },
      "source": [
        "nSexo = dataPrev['Sexo']\n",
        "nSexo = nSexo.value_counts().to_frame().reset_index()\n",
        "nSexo.columns = [\"Sexo\",\"Total\"]\n",
        "nSexo.head()"
      ],
      "execution_count": null,
      "outputs": [
        {
          "output_type": "execute_result",
          "data": {
            "text/html": [
              "<div>\n",
              "<style scoped>\n",
              "    .dataframe tbody tr th:only-of-type {\n",
              "        vertical-align: middle;\n",
              "    }\n",
              "\n",
              "    .dataframe tbody tr th {\n",
              "        vertical-align: top;\n",
              "    }\n",
              "\n",
              "    .dataframe thead th {\n",
              "        text-align: right;\n",
              "    }\n",
              "</style>\n",
              "<table border=\"1\" class=\"dataframe\">\n",
              "  <thead>\n",
              "    <tr style=\"text-align: right;\">\n",
              "      <th></th>\n",
              "      <th>Sexo</th>\n",
              "      <th>Total</th>\n",
              "    </tr>\n",
              "  </thead>\n",
              "  <tbody>\n",
              "    <tr>\n",
              "      <th>0</th>\n",
              "      <td>Masculino</td>\n",
              "      <td>56145</td>\n",
              "    </tr>\n",
              "    <tr>\n",
              "      <th>1</th>\n",
              "      <td>Feminino</td>\n",
              "      <td>24955</td>\n",
              "    </tr>\n",
              "    <tr>\n",
              "      <th>2</th>\n",
              "      <td>Não Informado</td>\n",
              "      <td>163</td>\n",
              "    </tr>\n",
              "    <tr>\n",
              "      <th>3</th>\n",
              "      <td>Indeterminado</td>\n",
              "      <td>1</td>\n",
              "    </tr>\n",
              "  </tbody>\n",
              "</table>\n",
              "</div>"
            ],
            "text/plain": [
              "                   Sexo  Total\n",
              "0  Masculino             56145\n",
              "1  Feminino              24955\n",
              "2  Não Informado           163\n",
              "3  Indeterminado             1"
            ]
          },
          "metadata": {
            "tags": []
          },
          "execution_count": 22
        }
      ]
    },
    {
      "cell_type": "code",
      "metadata": {
        "colab": {
          "base_uri": "https://localhost:8080/"
        },
        "id": "HyTMR2ouLaSV",
        "outputId": "04249ae8-64dd-4221-b60f-e9b18803d35f"
      },
      "source": [
        "nSexo.Total[0]/nSexo.Total.sum()"
      ],
      "execution_count": null,
      "outputs": [
        {
          "output_type": "execute_result",
          "data": {
            "text/plain": [
              "0.6908963378617838"
            ]
          },
          "metadata": {
            "tags": []
          },
          "execution_count": 70
        }
      ]
    },
    {
      "cell_type": "code",
      "metadata": {
        "id": "T09Gn6c_XbVh",
        "colab": {
          "base_uri": "https://localhost:8080/",
          "height": 320
        },
        "outputId": "483e02bd-c161-48e2-ad0c-21be5e39c21d"
      },
      "source": [
        "area2 = plt.figure(figsize=(15,5))\n",
        "y = plt.bar(x=nSexo.Sexo,\n",
        "            height=nSexo.Total,\n",
        "            color=['#225560','#EDF060','#F0803C','#310D20'],\n",
        "            )\n"
      ],
      "execution_count": null,
      "outputs": [
        {
          "output_type": "display_data",
          "data": {
            "image/png": "[encoded data removed]",
            "text/plain": [
              "<Figure size 1080x360 with 1 Axes>"
            ]
          },
          "metadata": {
            "tags": [],
            "needs_background": "light"
          }
        }
      ]
    },
    {
      "cell_type": "markdown",
      "metadata": {
        "id": "CsJyqu38a4Kc"
      },
      "source": [
        "#Estudo por Região"
      ]
    },
    {
      "cell_type": "code",
      "metadata": {
        "id": "0vexICjkeKEi",
        "colab": {
          "base_uri": "https://localhost:8080/"
        },
        "outputId": "7f7fc79a-a1a1-450b-ad12-9315789a1eb4"
      },
      "source": [
        "pip install geopandas"
      ],
      "execution_count": null,
      "outputs": [
        {
          "output_type": "stream",
          "text": [
            "Collecting geopandas\n",
            "\u001b[?25l  Downloading https://files.pythonhosted.org/packages/2a/9f/e8a440a993e024c0d3d4e5c7d3346367c50c9a1a3d735caf5ee3bde0aab1/geopandas-0.8.2-py2.py3-none-any.whl (962kB)\n",
            "\u001b[K     |████████████████████████████████| 972kB 4.1MB/s \n",
            "\u001b[?25hCollecting fiona\n",
            "\u001b[?25l  Downloading https://files.pythonhosted.org/packages/37/94/4910fd55246c1d963727b03885ead6ef1cd3748a465f7b0239ab25dfc9a3/Fiona-1.8.18-cp36-cp36m-manylinux1_x86_64.whl (14.8MB)\n",
            "\u001b[K     |████████████████████████████████| 14.8MB 320kB/s \n",
            "\u001b[?25hRequirement already satisfied: shapely in /usr/local/lib/python3.6/dist-packages (from geopandas) (1.7.1)\n",
            "Requirement already satisfied: pandas>=0.23.0 in /usr/local/lib/python3.6/dist-packages (from geopandas) (1.1.5)\n",
            "Collecting pyproj>=2.2.0\n",
            "\u001b[?25l  Downloading https://files.pythonhosted.org/packages/e4/ab/280e80a67cfc109d15428c0ec56391fc03a65857b7727cf4e6e6f99a4204/pyproj-3.0.0.post1-cp36-cp36m-manylinux2010_x86_64.whl (6.4MB)\n",
            "\u001b[K     |████████████████████████████████| 6.5MB 36.7MB/s \n",
            "\u001b[?25hCollecting cligj>=0.5\n",
            "  Downloading https://files.pythonhosted.org/packages/42/1e/947eadf10d6804bf276eb8a038bd5307996dceaaa41cfd21b7a15ec62f5d/cligj-0.7.1-py3-none-any.whl\n",
            "Collecting munch\n",
            "  Downloading https://files.pythonhosted.org/packages/cc/ab/85d8da5c9a45e072301beb37ad7f833cd344e04c817d97e0cc75681d248f/munch-2.5.0-py2.py3-none-any.whl\n",
            "Collecting click-plugins>=1.0\n",
            "  Downloading https://files.pythonhosted.org/packages/e9/da/824b92d9942f4e472702488857914bdd50f73021efea15b4cad9aca8ecef/click_plugins-1.1.1-py2.py3-none-any.whl\n",
            "Requirement already satisfied: six>=1.7 in /usr/local/lib/python3.6/dist-packages (from fiona->geopandas) (1.15.0)\n",
            "Requirement already satisfied: click<8,>=4.0 in /usr/local/lib/python3.6/dist-packages (from fiona->geopandas) (7.1.2)\n",
            "Requirement already satisfied: certifi in /usr/local/lib/python3.6/dist-packages (from fiona->geopandas) (2020.12.5)\n",
            "Requirement already satisfied: attrs>=17 in /usr/local/lib/python3.6/dist-packages (from fiona->geopandas) (20.3.0)\n",
            "Requirement already satisfied: numpy>=1.15.4 in /usr/local/lib/python3.6/dist-packages (from pandas>=0.23.0->geopandas) (1.19.5)\n",
            "Requirement already satisfied: pytz>=2017.2 in /usr/local/lib/python3.6/dist-packages (from pandas>=0.23.0->geopandas) (2018.9)\n",
            "Requirement already satisfied: python-dateutil>=2.7.3 in /usr/local/lib/python3.6/dist-packages (from pandas>=0.23.0->geopandas) (2.8.1)\n",
            "Installing collected packages: cligj, munch, click-plugins, fiona, pyproj, geopandas\n",
            "Successfully installed click-plugins-1.1.1 cligj-0.7.1 fiona-1.8.18 geopandas-0.8.2 munch-2.5.0 pyproj-3.0.0.post1\n"
          ],
          "name": "stdout"
        }
      ]
    },
    {
      "cell_type": "code",
      "metadata": {
        "id": "NyV5jjA6eEDx"
      },
      "source": [
        "import geopandas as gpd"
      ],
      "execution_count": null,
      "outputs": []
    },
    {
      "cell_type": "code",
      "metadata": {
        "id": "8kWn4UszazD0"
      },
      "source": [
        "localizacao = pd.DataFrame(dataPrev['UF Munic. Empregador'].value_counts())\n",
        "#localizacao.reset_index(inplace=True)\n",
        "#localizacao.columns=['UF','Total']\n",
        "#localizacao.sort_values(by=\"UF\")\n",
        "localizacao.sort_index(ascending=True,inplace=True)"
      ],
      "execution_count": null,
      "outputs": []
    },
    {
      "cell_type": "code",
      "metadata": {
        "id": "XAz-jJG8hh9G",
        "colab": {
          "base_uri": "https://localhost:8080/",
          "height": 206
        },
        "outputId": "3b701d92-b587-4909-def7-cbb2cefc86a9"
      },
      "source": [
        "localizacao.head()"
      ],
      "execution_count": null,
      "outputs": [
        {
          "output_type": "execute_result",
          "data": {
            "text/html": [
              "<div>\n",
              "<style scoped>\n",
              "    .dataframe tbody tr th:only-of-type {\n",
              "        vertical-align: middle;\n",
              "    }\n",
              "\n",
              "    .dataframe tbody tr th {\n",
              "        vertical-align: top;\n",
              "    }\n",
              "\n",
              "    .dataframe thead th {\n",
              "        text-align: right;\n",
              "    }\n",
              "</style>\n",
              "<table border=\"1\" class=\"dataframe\">\n",
              "  <thead>\n",
              "    <tr style=\"text-align: right;\">\n",
              "      <th></th>\n",
              "      <th>UF Munic. Empregador</th>\n",
              "    </tr>\n",
              "  </thead>\n",
              "  <tbody>\n",
              "    <tr>\n",
              "      <th>Acre</th>\n",
              "      <td>64</td>\n",
              "    </tr>\n",
              "    <tr>\n",
              "      <th>Alagoas</th>\n",
              "      <td>478</td>\n",
              "    </tr>\n",
              "    <tr>\n",
              "      <th>Amapá</th>\n",
              "      <td>61</td>\n",
              "    </tr>\n",
              "    <tr>\n",
              "      <th>Amazonas</th>\n",
              "      <td>821</td>\n",
              "    </tr>\n",
              "    <tr>\n",
              "      <th>Bahia</th>\n",
              "      <td>2003</td>\n",
              "    </tr>\n",
              "  </tbody>\n",
              "</table>\n",
              "</div>"
            ],
            "text/plain": [
              "                      UF Munic. Empregador\n",
              "Acre                                    64\n",
              "Alagoas                                478\n",
              "Amapá                                   61\n",
              "Amazonas                               821\n",
              "Bahia                                 2003"
            ]
          },
          "metadata": {
            "tags": []
          },
          "execution_count": 27
        }
      ]
    },
    {
      "cell_type": "code",
      "metadata": {
        "id": "jzAK4Fyahj16",
        "colab": {
          "base_uri": "https://localhost:8080/"
        },
        "outputId": "a1bfd2b8-1daa-4f56-f86a-95ad2f0da847"
      },
      "source": [
        "localizacao.reset_index(inplace=True)\n",
        "#localizacao.index = localizacao.index.str.upper()\n",
        "localizacao.columns"
      ],
      "execution_count": null,
      "outputs": [
        {
          "output_type": "execute_result",
          "data": {
            "text/plain": [
              "Index(['index', 'UF Munic. Empregador'], dtype='object')"
            ]
          },
          "metadata": {
            "tags": []
          },
          "execution_count": 28
        }
      ]
    },
    {
      "cell_type": "code",
      "metadata": {
        "id": "ZpZ7lWpcwSsK"
      },
      "source": [
        "#localizacao.drop('level_0',axis=1,inplace=True)"
      ],
      "execution_count": null,
      "outputs": []
    },
    {
      "cell_type": "code",
      "metadata": {
        "id": "fo3VflKRwJCk",
        "colab": {
          "base_uri": "https://localhost:8080/",
          "height": 206
        },
        "outputId": "45170d27-300d-421d-c9af-93189e8183d1"
      },
      "source": [
        "localizacao.columns = ['NM_ESTADO','QUANTITY']\n",
        "localizacao.head()"
      ],
      "execution_count": null,
      "outputs": [
        {
          "output_type": "execute_result",
          "data": {
            "text/html": [
              "<div>\n",
              "<style scoped>\n",
              "    .dataframe tbody tr th:only-of-type {\n",
              "        vertical-align: middle;\n",
              "    }\n",
              "\n",
              "    .dataframe tbody tr th {\n",
              "        vertical-align: top;\n",
              "    }\n",
              "\n",
              "    .dataframe thead th {\n",
              "        text-align: right;\n",
              "    }\n",
              "</style>\n",
              "<table border=\"1\" class=\"dataframe\">\n",
              "  <thead>\n",
              "    <tr style=\"text-align: right;\">\n",
              "      <th></th>\n",
              "      <th>NM_ESTADO</th>\n",
              "      <th>QUANTITY</th>\n",
              "    </tr>\n",
              "  </thead>\n",
              "  <tbody>\n",
              "    <tr>\n",
              "      <th>0</th>\n",
              "      <td>Acre</td>\n",
              "      <td>64</td>\n",
              "    </tr>\n",
              "    <tr>\n",
              "      <th>1</th>\n",
              "      <td>Alagoas</td>\n",
              "      <td>478</td>\n",
              "    </tr>\n",
              "    <tr>\n",
              "      <th>2</th>\n",
              "      <td>Amapá</td>\n",
              "      <td>61</td>\n",
              "    </tr>\n",
              "    <tr>\n",
              "      <th>3</th>\n",
              "      <td>Amazonas</td>\n",
              "      <td>821</td>\n",
              "    </tr>\n",
              "    <tr>\n",
              "      <th>4</th>\n",
              "      <td>Bahia</td>\n",
              "      <td>2003</td>\n",
              "    </tr>\n",
              "  </tbody>\n",
              "</table>\n",
              "</div>"
            ],
            "text/plain": [
              "              NM_ESTADO  QUANTITY\n",
              "0  Acre                        64\n",
              "1  Alagoas                    478\n",
              "2  Amapá                       61\n",
              "3  Amazonas                   821\n",
              "4  Bahia                     2003"
            ]
          },
          "metadata": {
            "tags": []
          },
          "execution_count": 30
        }
      ]
    },
    {
      "cell_type": "code",
      "metadata": {
        "id": "wuqjw6iDeQvr",
        "colab": {
          "base_uri": "https://localhost:8080/",
          "height": 229
        },
        "outputId": "4422e2a7-2697-4a5e-abbc-2631f20062fc"
      },
      "source": [
        "fp = \"/content/drive/MyDrive/Datasets/UFEBRASIL.shp\"\n",
        "map_df = gpd.read_file(fp)\n",
        "map_df.plot()"
      ],
      "execution_count": null,
      "outputs": [
        {
          "output_type": "execute_result",
          "data": {
            "text/plain": [
              "<matplotlib.axes._subplots.AxesSubplot at 0x7fd04b164b38>"
            ]
          },
          "metadata": {
            "tags": []
          },
          "execution_count": 31
        },
        {
          "output_type": "display_data",
          "data": {
            "image/png": "[encoded data removed]",
            "text/plain": [
              "<Figure size 1440x216 with 1 Axes>"
            ]
          },
          "metadata": {
            "tags": [],
            "needs_background": "light"
          }
        }
      ]
    },
    {
      "cell_type": "code",
      "metadata": {
        "id": "RYMwkYV2gEVV"
      },
      "source": [
        "map_df.set_index('NM_ESTADO',inplace=True)"
      ],
      "execution_count": null,
      "outputs": []
    },
    {
      "cell_type": "code",
      "metadata": {
        "id": "zTschKXvjAIF"
      },
      "source": [
        "map_df.sort_values(by='NM_ESTADO',ascending=True,inplace=True)"
      ],
      "execution_count": null,
      "outputs": []
    },
    {
      "cell_type": "code",
      "metadata": {
        "id": "iYpL7h_rvwGd"
      },
      "source": [
        "map_df.reset_index(inplace=True)"
      ],
      "execution_count": null,
      "outputs": []
    },
    {
      "cell_type": "code",
      "metadata": {
        "id": "hizNVn5Ni4hb",
        "colab": {
          "base_uri": "https://localhost:8080/",
          "height": 206
        },
        "outputId": "ac919879-f6f2-45fc-a4f0-6854a04868e7"
      },
      "source": [
        "map_df.head()"
      ],
      "execution_count": null,
      "outputs": [
        {
          "output_type": "execute_result",
          "data": {
            "text/html": [
              "<div>\n",
              "<style scoped>\n",
              "    .dataframe tbody tr th:only-of-type {\n",
              "        vertical-align: middle;\n",
              "    }\n",
              "\n",
              "    .dataframe tbody tr th {\n",
              "        vertical-align: top;\n",
              "    }\n",
              "\n",
              "    .dataframe thead th {\n",
              "        text-align: right;\n",
              "    }\n",
              "</style>\n",
              "<table border=\"1\" class=\"dataframe\">\n",
              "  <thead>\n",
              "    <tr style=\"text-align: right;\">\n",
              "      <th></th>\n",
              "      <th>NM_ESTADO</th>\n",
              "      <th>ID</th>\n",
              "      <th>CD_GEOCODU</th>\n",
              "      <th>NM_REGIAO</th>\n",
              "      <th>geometry</th>\n",
              "    </tr>\n",
              "  </thead>\n",
              "  <tbody>\n",
              "    <tr>\n",
              "      <th>0</th>\n",
              "      <td>ACRE</td>\n",
              "      <td>2</td>\n",
              "      <td>12</td>\n",
              "      <td>NORTE</td>\n",
              "      <td>POLYGON ((-73.18253 -7.33550, -73.13680 -7.352...</td>\n",
              "    </tr>\n",
              "    <tr>\n",
              "      <th>1</th>\n",
              "      <td>ALAGOAS</td>\n",
              "      <td>1</td>\n",
              "      <td>27</td>\n",
              "      <td>NORDESTE</td>\n",
              "      <td>POLYGON ((-35.46753 -8.81744, -35.46659 -8.817...</td>\n",
              "    </tr>\n",
              "    <tr>\n",
              "      <th>2</th>\n",
              "      <td>AMAPÁ</td>\n",
              "      <td>6</td>\n",
              "      <td>16</td>\n",
              "      <td>NORTE</td>\n",
              "      <td>MULTIPOLYGON (((-51.17970 4.00008, -51.17784 3...</td>\n",
              "    </tr>\n",
              "    <tr>\n",
              "      <th>3</th>\n",
              "      <td>AMAZONAS</td>\n",
              "      <td>3</td>\n",
              "      <td>13</td>\n",
              "      <td>NORTE</td>\n",
              "      <td>POLYGON ((-67.32609 2.02971, -67.31682 2.00125...</td>\n",
              "    </tr>\n",
              "    <tr>\n",
              "      <th>4</th>\n",
              "      <td>BAHIA</td>\n",
              "      <td>4</td>\n",
              "      <td>29</td>\n",
              "      <td>NORDESTE</td>\n",
              "      <td>MULTIPOLYGON (((-39.36446 -8.53785, -39.36047 ...</td>\n",
              "    </tr>\n",
              "  </tbody>\n",
              "</table>\n",
              "</div>"
            ],
            "text/plain": [
              "  NM_ESTADO  ID  ... NM_REGIAO                                           geometry\n",
              "0      ACRE   2  ...     NORTE  POLYGON ((-73.18253 -7.33550, -73.13680 -7.352...\n",
              "1   ALAGOAS   1  ...  NORDESTE  POLYGON ((-35.46753 -8.81744, -35.46659 -8.817...\n",
              "2     AMAPÁ   6  ...     NORTE  MULTIPOLYGON (((-51.17970 4.00008, -51.17784 3...\n",
              "3  AMAZONAS   3  ...     NORTE  POLYGON ((-67.32609 2.02971, -67.31682 2.00125...\n",
              "4     BAHIA   4  ...  NORDESTE  MULTIPOLYGON (((-39.36446 -8.53785, -39.36047 ...\n",
              "\n",
              "[5 rows x 5 columns]"
            ]
          },
          "metadata": {
            "tags": []
          },
          "execution_count": 35
        }
      ]
    },
    {
      "cell_type": "code",
      "metadata": {
        "id": "aveQcCGTpGw9",
        "colab": {
          "base_uri": "https://localhost:8080/",
          "height": 206
        },
        "outputId": "cd74a44f-b628-4b71-f859-1ec28f807604"
      },
      "source": [
        "merged = pd.concat([map_df,localizacao],axis=1)\n",
        "merged.head()"
      ],
      "execution_count": null,
      "outputs": [
        {
          "output_type": "execute_result",
          "data": {
            "text/html": [
              "<div>\n",
              "<style scoped>\n",
              "    .dataframe tbody tr th:only-of-type {\n",
              "        vertical-align: middle;\n",
              "    }\n",
              "\n",
              "    .dataframe tbody tr th {\n",
              "        vertical-align: top;\n",
              "    }\n",
              "\n",
              "    .dataframe thead th {\n",
              "        text-align: right;\n",
              "    }\n",
              "</style>\n",
              "<table border=\"1\" class=\"dataframe\">\n",
              "  <thead>\n",
              "    <tr style=\"text-align: right;\">\n",
              "      <th></th>\n",
              "      <th>NM_ESTADO</th>\n",
              "      <th>ID</th>\n",
              "      <th>CD_GEOCODU</th>\n",
              "      <th>NM_REGIAO</th>\n",
              "      <th>geometry</th>\n",
              "      <th>NM_ESTADO</th>\n",
              "      <th>QUANTITY</th>\n",
              "    </tr>\n",
              "  </thead>\n",
              "  <tbody>\n",
              "    <tr>\n",
              "      <th>0</th>\n",
              "      <td>ACRE</td>\n",
              "      <td>2</td>\n",
              "      <td>12</td>\n",
              "      <td>NORTE</td>\n",
              "      <td>POLYGON ((-73.18253 -7.33550, -73.13680 -7.352...</td>\n",
              "      <td>Acre</td>\n",
              "      <td>64</td>\n",
              "    </tr>\n",
              "    <tr>\n",
              "      <th>1</th>\n",
              "      <td>ALAGOAS</td>\n",
              "      <td>1</td>\n",
              "      <td>27</td>\n",
              "      <td>NORDESTE</td>\n",
              "      <td>POLYGON ((-35.46753 -8.81744, -35.46659 -8.817...</td>\n",
              "      <td>Alagoas</td>\n",
              "      <td>478</td>\n",
              "    </tr>\n",
              "    <tr>\n",
              "      <th>2</th>\n",
              "      <td>AMAPÁ</td>\n",
              "      <td>6</td>\n",
              "      <td>16</td>\n",
              "      <td>NORTE</td>\n",
              "      <td>MULTIPOLYGON (((-51.17970 4.00008, -51.17784 3...</td>\n",
              "      <td>Amapá</td>\n",
              "      <td>61</td>\n",
              "    </tr>\n",
              "    <tr>\n",
              "      <th>3</th>\n",
              "      <td>AMAZONAS</td>\n",
              "      <td>3</td>\n",
              "      <td>13</td>\n",
              "      <td>NORTE</td>\n",
              "      <td>POLYGON ((-67.32609 2.02971, -67.31682 2.00125...</td>\n",
              "      <td>Amazonas</td>\n",
              "      <td>821</td>\n",
              "    </tr>\n",
              "    <tr>\n",
              "      <th>4</th>\n",
              "      <td>BAHIA</td>\n",
              "      <td>4</td>\n",
              "      <td>29</td>\n",
              "      <td>NORDESTE</td>\n",
              "      <td>MULTIPOLYGON (((-39.36446 -8.53785, -39.36047 ...</td>\n",
              "      <td>Bahia</td>\n",
              "      <td>2003</td>\n",
              "    </tr>\n",
              "  </tbody>\n",
              "</table>\n",
              "</div>"
            ],
            "text/plain": [
              "  NM_ESTADO  ID  ...             NM_ESTADO QUANTITY\n",
              "0      ACRE   2  ...  Acre                       64\n",
              "1   ALAGOAS   1  ...  Alagoas                   478\n",
              "2     AMAPÁ   6  ...  Amapá                      61\n",
              "3  AMAZONAS   3  ...  Amazonas                  821\n",
              "4     BAHIA   4  ...  Bahia                    2003\n",
              "\n",
              "[5 rows x 7 columns]"
            ]
          },
          "metadata": {
            "tags": []
          },
          "execution_count": 36
        }
      ]
    },
    {
      "cell_type": "code",
      "metadata": {
        "id": "WO77dIOMw0gT",
        "colab": {
          "base_uri": "https://localhost:8080/",
          "height": 406
        },
        "outputId": "52575712-223c-45ea-9728-156c19552f5e"
      },
      "source": [
        "variable = 'QUANTITY'\n",
        "vmin, vmax = localizacao.QUANTITY.min(),localizacao.QUANTITY.max()\n",
        "fig, ax = plt.subplots(1, figsize=(10, 6))\n",
        "merged.plot(column=variable, cmap='Blues', linewidth=0.8, ax=ax, edgecolor='0.8')\n",
        "\n",
        "ax.axis('off')\n",
        "\n",
        "# add a title\n",
        "ax.set_title('Quant. de CAT por Estado', \\\n",
        "              fontdict={'fontsize': '18',\n",
        "                        'fontweight' : '3'})\n",
        "# create an annotation for the  data source\n",
        "ax.annotate('Fonte: DataPrev, 2020',\n",
        "           xy=(0.1, .08), xycoords='figure fraction',\n",
        "           horizontalalignment='left', verticalalignment='top',\n",
        "           fontsize=10, color='#555555')\n",
        "\n",
        "# Create colorbar as a legend\n",
        "sm = plt.cm.ScalarMappable(cmap='Blues', norm=plt.Normalize(vmin=vmin, vmax=vmax))\n",
        "sm._A = []\n",
        "cbar = fig.colorbar(sm)"
      ],
      "execution_count": null,
      "outputs": [
        {
          "output_type": "display_data",
          "data": {
            "image/png": "[encoded data removed]",
            "text/plain": [
              "<Figure size 720x432 with 2 Axes>"
            ]
          },
          "metadata": {
            "tags": [],
            "needs_background": "light"
          }
        }
      ]
    },
    {
      "cell_type": "code",
      "metadata": {
        "id": "-1KMubKEybs-",
        "colab": {
          "base_uri": "https://localhost:8080/",
          "height": 363
        },
        "outputId": "5a5241b4-01a2-4745-b60e-9690114c9917"
      },
      "source": [
        "localizacao.sort_values('QUANTITY',ascending=False).head(10)"
      ],
      "execution_count": null,
      "outputs": [
        {
          "output_type": "execute_result",
          "data": {
            "text/html": [
              "<div>\n",
              "<style scoped>\n",
              "    .dataframe tbody tr th:only-of-type {\n",
              "        vertical-align: middle;\n",
              "    }\n",
              "\n",
              "    .dataframe tbody tr th {\n",
              "        vertical-align: top;\n",
              "    }\n",
              "\n",
              "    .dataframe thead th {\n",
              "        text-align: right;\n",
              "    }\n",
              "</style>\n",
              "<table border=\"1\" class=\"dataframe\">\n",
              "  <thead>\n",
              "    <tr style=\"text-align: right;\">\n",
              "      <th></th>\n",
              "      <th>NM_ESTADO</th>\n",
              "      <th>QUANTITY</th>\n",
              "    </tr>\n",
              "  </thead>\n",
              "  <tbody>\n",
              "    <tr>\n",
              "      <th>25</th>\n",
              "      <td>São Paulo</td>\n",
              "      <td>29551</td>\n",
              "    </tr>\n",
              "    <tr>\n",
              "      <th>12</th>\n",
              "      <td>Minas Gerais</td>\n",
              "      <td>8696</td>\n",
              "    </tr>\n",
              "    <tr>\n",
              "      <th>19</th>\n",
              "      <td>Rio Grande do Sul</td>\n",
              "      <td>7003</td>\n",
              "    </tr>\n",
              "    <tr>\n",
              "      <th>13</th>\n",
              "      <td>Paraná</td>\n",
              "      <td>6850</td>\n",
              "    </tr>\n",
              "    <tr>\n",
              "      <th>23</th>\n",
              "      <td>Santa Catarina</td>\n",
              "      <td>5358</td>\n",
              "    </tr>\n",
              "    <tr>\n",
              "      <th>20</th>\n",
              "      <td>Rio de Janeiro</td>\n",
              "      <td>5060</td>\n",
              "    </tr>\n",
              "    <tr>\n",
              "      <th>8</th>\n",
              "      <td>Goiás</td>\n",
              "      <td>2325</td>\n",
              "    </tr>\n",
              "    <tr>\n",
              "      <th>4</th>\n",
              "      <td>Bahia</td>\n",
              "      <td>2003</td>\n",
              "    </tr>\n",
              "    <tr>\n",
              "      <th>10</th>\n",
              "      <td>Mato Grosso</td>\n",
              "      <td>1946</td>\n",
              "    </tr>\n",
              "    <tr>\n",
              "      <th>7</th>\n",
              "      <td>Espírito Santo</td>\n",
              "      <td>1899</td>\n",
              "    </tr>\n",
              "  </tbody>\n",
              "</table>\n",
              "</div>"
            ],
            "text/plain": [
              "               NM_ESTADO  QUANTITY\n",
              "25  São Paulo                29551\n",
              "12  Minas Gerais              8696\n",
              "19  Rio Grande do Sul         7003\n",
              "13  Paraná                    6850\n",
              "23  Santa Catarina            5358\n",
              "20  Rio de Janeiro            5060\n",
              "8   Goiás                     2325\n",
              "4   Bahia                     2003\n",
              "10  Mato Grosso               1946\n",
              "7   Espírito Santo            1899"
            ]
          },
          "metadata": {
            "tags": []
          },
          "execution_count": 38
        }
      ]
    },
    {
      "cell_type": "markdown",
      "metadata": {
        "id": "ntVdFhVcMtUl"
      },
      "source": [
        "#Cargo"
      ]
    },
    {
      "cell_type": "code",
      "metadata": {
        "colab": {
          "base_uri": "https://localhost:8080/"
        },
        "id": "VhuC2-mXMwWY",
        "outputId": "9f485204-95ae-4994-a444-7394fc4586d9"
      },
      "source": [
        "cargo = dataPrev['CBO.1']\r\n",
        "cargo.head(5)"
      ],
      "execution_count": null,
      "outputs": [
        {
          "output_type": "execute_result",
          "data": {
            "text/plain": [
              "0    322230-Auxiliar de E\n",
              "1    322205-Tec. de Enfer\n",
              "2    322205-Tec. de Enfer\n",
              "3    314410-Tec. em Manut\n",
              "4    724315-Soldador     \n",
              "Name: CBO.1, dtype: object"
            ]
          },
          "metadata": {
            "tags": []
          },
          "execution_count": 39
        }
      ]
    },
    {
      "cell_type": "code",
      "metadata": {
        "colab": {
          "base_uri": "https://localhost:8080/",
          "height": 424
        },
        "id": "aeK3AParODp-",
        "outputId": "a98e1337-489d-42fd-a7e4-d16f196554a6"
      },
      "source": [
        "cargo = cargo.str.split(\"-\",expand=True)\r\n",
        "cargo"
      ],
      "execution_count": null,
      "outputs": [
        {
          "output_type": "execute_result",
          "data": {
            "text/html": [
              "<div>\n",
              "<style scoped>\n",
              "    .dataframe tbody tr th:only-of-type {\n",
              "        vertical-align: middle;\n",
              "    }\n",
              "\n",
              "    .dataframe tbody tr th {\n",
              "        vertical-align: top;\n",
              "    }\n",
              "\n",
              "    .dataframe thead th {\n",
              "        text-align: right;\n",
              "    }\n",
              "</style>\n",
              "<table border=\"1\" class=\"dataframe\">\n",
              "  <thead>\n",
              "    <tr style=\"text-align: right;\">\n",
              "      <th></th>\n",
              "      <th>0</th>\n",
              "      <th>1</th>\n",
              "      <th>2</th>\n",
              "    </tr>\n",
              "  </thead>\n",
              "  <tbody>\n",
              "    <tr>\n",
              "      <th>0</th>\n",
              "      <td>322230</td>\n",
              "      <td>Auxiliar de E</td>\n",
              "      <td>None</td>\n",
              "    </tr>\n",
              "    <tr>\n",
              "      <th>1</th>\n",
              "      <td>322205</td>\n",
              "      <td>Tec. de Enfer</td>\n",
              "      <td>None</td>\n",
              "    </tr>\n",
              "    <tr>\n",
              "      <th>2</th>\n",
              "      <td>322205</td>\n",
              "      <td>Tec. de Enfer</td>\n",
              "      <td>None</td>\n",
              "    </tr>\n",
              "    <tr>\n",
              "      <th>3</th>\n",
              "      <td>314410</td>\n",
              "      <td>Tec. em Manut</td>\n",
              "      <td>None</td>\n",
              "    </tr>\n",
              "    <tr>\n",
              "      <th>4</th>\n",
              "      <td>724315</td>\n",
              "      <td>Soldador</td>\n",
              "      <td>None</td>\n",
              "    </tr>\n",
              "    <tr>\n",
              "      <th>...</th>\n",
              "      <td>...</td>\n",
              "      <td>...</td>\n",
              "      <td>...</td>\n",
              "    </tr>\n",
              "    <tr>\n",
              "      <th>81259</th>\n",
              "      <td>782510</td>\n",
              "      <td>Motorista de</td>\n",
              "      <td>None</td>\n",
              "    </tr>\n",
              "    <tr>\n",
              "      <th>81260</th>\n",
              "      <td>611005</td>\n",
              "      <td>Produtor Agro</td>\n",
              "      <td>None</td>\n",
              "    </tr>\n",
              "    <tr>\n",
              "      <th>81261</th>\n",
              "      <td>519110</td>\n",
              "      <td>Motociclista</td>\n",
              "      <td>None</td>\n",
              "    </tr>\n",
              "    <tr>\n",
              "      <th>81262</th>\n",
              "      <td>782510</td>\n",
              "      <td>Motorista de</td>\n",
              "      <td>None</td>\n",
              "    </tr>\n",
              "    <tr>\n",
              "      <th>81263</th>\n",
              "      <td>715615</td>\n",
              "      <td>Eletricista I</td>\n",
              "      <td>None</td>\n",
              "    </tr>\n",
              "  </tbody>\n",
              "</table>\n",
              "<p>81264 rows × 3 columns</p>\n",
              "</div>"
            ],
            "text/plain": [
              "            0              1     2\n",
              "0      322230  Auxiliar de E  None\n",
              "1      322205  Tec. de Enfer  None\n",
              "2      322205  Tec. de Enfer  None\n",
              "3      314410  Tec. em Manut  None\n",
              "4      724315  Soldador       None\n",
              "...       ...            ...   ...\n",
              "81259  782510  Motorista de   None\n",
              "81260  611005  Produtor Agro  None\n",
              "81261  519110  Motociclista   None\n",
              "81262  782510  Motorista de   None\n",
              "81263  715615  Eletricista I  None\n",
              "\n",
              "[81264 rows x 3 columns]"
            ]
          },
          "metadata": {
            "tags": []
          },
          "execution_count": 40
        }
      ]
    },
    {
      "cell_type": "code",
      "metadata": {
        "colab": {
          "base_uri": "https://localhost:8080/",
          "height": 206
        },
        "id": "t1_XGoaBOVoQ",
        "outputId": "6f160049-1347-4d5f-ae3c-0cd32f340812"
      },
      "source": [
        "cargo.columns = [\"CBO\",\"Cargo\",\"NA\"]\r\n",
        "cargo.head()"
      ],
      "execution_count": null,
      "outputs": [
        {
          "output_type": "execute_result",
          "data": {
            "text/html": [
              "<div>\n",
              "<style scoped>\n",
              "    .dataframe tbody tr th:only-of-type {\n",
              "        vertical-align: middle;\n",
              "    }\n",
              "\n",
              "    .dataframe tbody tr th {\n",
              "        vertical-align: top;\n",
              "    }\n",
              "\n",
              "    .dataframe thead th {\n",
              "        text-align: right;\n",
              "    }\n",
              "</style>\n",
              "<table border=\"1\" class=\"dataframe\">\n",
              "  <thead>\n",
              "    <tr style=\"text-align: right;\">\n",
              "      <th></th>\n",
              "      <th>CBO</th>\n",
              "      <th>Cargo</th>\n",
              "      <th>NA</th>\n",
              "    </tr>\n",
              "  </thead>\n",
              "  <tbody>\n",
              "    <tr>\n",
              "      <th>0</th>\n",
              "      <td>322230</td>\n",
              "      <td>Auxiliar de E</td>\n",
              "      <td>None</td>\n",
              "    </tr>\n",
              "    <tr>\n",
              "      <th>1</th>\n",
              "      <td>322205</td>\n",
              "      <td>Tec. de Enfer</td>\n",
              "      <td>None</td>\n",
              "    </tr>\n",
              "    <tr>\n",
              "      <th>2</th>\n",
              "      <td>322205</td>\n",
              "      <td>Tec. de Enfer</td>\n",
              "      <td>None</td>\n",
              "    </tr>\n",
              "    <tr>\n",
              "      <th>3</th>\n",
              "      <td>314410</td>\n",
              "      <td>Tec. em Manut</td>\n",
              "      <td>None</td>\n",
              "    </tr>\n",
              "    <tr>\n",
              "      <th>4</th>\n",
              "      <td>724315</td>\n",
              "      <td>Soldador</td>\n",
              "      <td>None</td>\n",
              "    </tr>\n",
              "  </tbody>\n",
              "</table>\n",
              "</div>"
            ],
            "text/plain": [
              "      CBO          Cargo    NA\n",
              "0  322230  Auxiliar de E  None\n",
              "1  322205  Tec. de Enfer  None\n",
              "2  322205  Tec. de Enfer  None\n",
              "3  314410  Tec. em Manut  None\n",
              "4  724315  Soldador       None"
            ]
          },
          "metadata": {
            "tags": []
          },
          "execution_count": 41
        }
      ]
    },
    {
      "cell_type": "code",
      "metadata": {
        "colab": {
          "base_uri": "https://localhost:8080/",
          "height": 424
        },
        "id": "Ui_JFJafU5f1",
        "outputId": "6ff1216a-1d63-4428-fcb0-a5f99a319e0c"
      },
      "source": [
        "cargo.drop(columns=\"NA\",inplace=True)\r\n",
        "cargo"
      ],
      "execution_count": null,
      "outputs": [
        {
          "output_type": "execute_result",
          "data": {
            "text/html": [
              "<div>\n",
              "<style scoped>\n",
              "    .dataframe tbody tr th:only-of-type {\n",
              "        vertical-align: middle;\n",
              "    }\n",
              "\n",
              "    .dataframe tbody tr th {\n",
              "        vertical-align: top;\n",
              "    }\n",
              "\n",
              "    .dataframe thead th {\n",
              "        text-align: right;\n",
              "    }\n",
              "</style>\n",
              "<table border=\"1\" class=\"dataframe\">\n",
              "  <thead>\n",
              "    <tr style=\"text-align: right;\">\n",
              "      <th></th>\n",
              "      <th>CBO</th>\n",
              "      <th>Cargo</th>\n",
              "    </tr>\n",
              "  </thead>\n",
              "  <tbody>\n",
              "    <tr>\n",
              "      <th>0</th>\n",
              "      <td>322230</td>\n",
              "      <td>Auxiliar de E</td>\n",
              "    </tr>\n",
              "    <tr>\n",
              "      <th>1</th>\n",
              "      <td>322205</td>\n",
              "      <td>Tec. de Enfer</td>\n",
              "    </tr>\n",
              "    <tr>\n",
              "      <th>2</th>\n",
              "      <td>322205</td>\n",
              "      <td>Tec. de Enfer</td>\n",
              "    </tr>\n",
              "    <tr>\n",
              "      <th>3</th>\n",
              "      <td>314410</td>\n",
              "      <td>Tec. em Manut</td>\n",
              "    </tr>\n",
              "    <tr>\n",
              "      <th>4</th>\n",
              "      <td>724315</td>\n",
              "      <td>Soldador</td>\n",
              "    </tr>\n",
              "    <tr>\n",
              "      <th>...</th>\n",
              "      <td>...</td>\n",
              "      <td>...</td>\n",
              "    </tr>\n",
              "    <tr>\n",
              "      <th>81259</th>\n",
              "      <td>782510</td>\n",
              "      <td>Motorista de</td>\n",
              "    </tr>\n",
              "    <tr>\n",
              "      <th>81260</th>\n",
              "      <td>611005</td>\n",
              "      <td>Produtor Agro</td>\n",
              "    </tr>\n",
              "    <tr>\n",
              "      <th>81261</th>\n",
              "      <td>519110</td>\n",
              "      <td>Motociclista</td>\n",
              "    </tr>\n",
              "    <tr>\n",
              "      <th>81262</th>\n",
              "      <td>782510</td>\n",
              "      <td>Motorista de</td>\n",
              "    </tr>\n",
              "    <tr>\n",
              "      <th>81263</th>\n",
              "      <td>715615</td>\n",
              "      <td>Eletricista I</td>\n",
              "    </tr>\n",
              "  </tbody>\n",
              "</table>\n",
              "<p>81264 rows × 2 columns</p>\n",
              "</div>"
            ],
            "text/plain": [
              "          CBO          Cargo\n",
              "0      322230  Auxiliar de E\n",
              "1      322205  Tec. de Enfer\n",
              "2      322205  Tec. de Enfer\n",
              "3      314410  Tec. em Manut\n",
              "4      724315  Soldador     \n",
              "...       ...            ...\n",
              "81259  782510  Motorista de \n",
              "81260  611005  Produtor Agro\n",
              "81261  519110  Motociclista \n",
              "81262  782510  Motorista de \n",
              "81263  715615  Eletricista I\n",
              "\n",
              "[81264 rows x 2 columns]"
            ]
          },
          "metadata": {
            "tags": []
          },
          "execution_count": 42
        }
      ]
    },
    {
      "cell_type": "code",
      "metadata": {
        "colab": {
          "base_uri": "https://localhost:8080/",
          "height": 206
        },
        "id": "WOABb0eRKmCT",
        "outputId": "b2ef5d3b-f2f8-4cab-9a38-b81bd97902f3"
      },
      "source": [
        "maiores_acidentados = cargo.CBO.value_counts().rename_axis('CBO').reset_index(name='Qtd').head(5)\r\n",
        "maiores_acidentados"
      ],
      "execution_count": null,
      "outputs": [
        {
          "output_type": "execute_result",
          "data": {
            "text/html": [
              "<div>\n",
              "<style scoped>\n",
              "    .dataframe tbody tr th:only-of-type {\n",
              "        vertical-align: middle;\n",
              "    }\n",
              "\n",
              "    .dataframe tbody tr th {\n",
              "        vertical-align: top;\n",
              "    }\n",
              "\n",
              "    .dataframe thead th {\n",
              "        text-align: right;\n",
              "    }\n",
              "</style>\n",
              "<table border=\"1\" class=\"dataframe\">\n",
              "  <thead>\n",
              "    <tr style=\"text-align: right;\">\n",
              "      <th></th>\n",
              "      <th>CBO</th>\n",
              "      <th>Qtd</th>\n",
              "    </tr>\n",
              "  </thead>\n",
              "  <tbody>\n",
              "    <tr>\n",
              "      <th>0</th>\n",
              "      <td>{ñ class}</td>\n",
              "      <td>8356</td>\n",
              "    </tr>\n",
              "    <tr>\n",
              "      <th>1</th>\n",
              "      <td>322205</td>\n",
              "      <td>5559</td>\n",
              "    </tr>\n",
              "    <tr>\n",
              "      <th>2</th>\n",
              "      <td>784205</td>\n",
              "      <td>5155</td>\n",
              "    </tr>\n",
              "    <tr>\n",
              "      <th>3</th>\n",
              "      <td>782510</td>\n",
              "      <td>1971</td>\n",
              "    </tr>\n",
              "    <tr>\n",
              "      <th>4</th>\n",
              "      <td>717020</td>\n",
              "      <td>1902</td>\n",
              "    </tr>\n",
              "  </tbody>\n",
              "</table>\n",
              "</div>"
            ],
            "text/plain": [
              "                    CBO   Qtd\n",
              "0  {ñ class}             8356\n",
              "1                322205  5559\n",
              "2                784205  5155\n",
              "3                782510  1971\n",
              "4                717020  1902"
            ]
          },
          "metadata": {
            "tags": []
          },
          "execution_count": 43
        }
      ]
    },
    {
      "cell_type": "code",
      "metadata": {
        "id": "KFFCLq7VOzKK"
      },
      "source": [
        "NC = ['{ñ class}']\r\n",
        "for x in range(len(NC)):\r\n",
        "  maiores_acidentados.loc[maiores_acidentados.CBO.str.contains(NC[x]),'CBO'] = 'Não Classificado'\r\n",
        "NC = ['322205']\r\n",
        "for x in range(len(NC)):\r\n",
        "  maiores_acidentados.loc[maiores_acidentados.CBO.str.contains(NC[x]),'CBO'] = 'Técnico de enfermagem'\r\n",
        "  NC = ['784205']\r\n",
        "for x in range(len(NC)):\r\n",
        "  maiores_acidentados.loc[maiores_acidentados.CBO.str.contains(NC[x]),'CBO'] = 'Alimentador de linha de produção'\r\n",
        "  NC = ['782510']\r\n",
        "for x in range(len(NC)):\r\n",
        "  maiores_acidentados.loc[maiores_acidentados.CBO.str.contains(NC[x]),'CBO'] = 'Motorista de caminhão'\r\n",
        "  NC = ['717020']\r\n",
        "for x in range(len(NC)):\r\n",
        "  maiores_acidentados.loc[maiores_acidentados.CBO.str.contains(NC[x]),'CBO'] = 'Servente de obras'"
      ],
      "execution_count": null,
      "outputs": []
    },
    {
      "cell_type": "code",
      "metadata": {
        "colab": {
          "base_uri": "https://localhost:8080/",
          "height": 206
        },
        "id": "6QpZnAsgO51c",
        "outputId": "c8286d97-2976-4cb6-a8ea-9721b6603ede"
      },
      "source": [
        "maiores_acidentados"
      ],
      "execution_count": null,
      "outputs": [
        {
          "output_type": "execute_result",
          "data": {
            "text/html": [
              "<div>\n",
              "<style scoped>\n",
              "    .dataframe tbody tr th:only-of-type {\n",
              "        vertical-align: middle;\n",
              "    }\n",
              "\n",
              "    .dataframe tbody tr th {\n",
              "        vertical-align: top;\n",
              "    }\n",
              "\n",
              "    .dataframe thead th {\n",
              "        text-align: right;\n",
              "    }\n",
              "</style>\n",
              "<table border=\"1\" class=\"dataframe\">\n",
              "  <thead>\n",
              "    <tr style=\"text-align: right;\">\n",
              "      <th></th>\n",
              "      <th>CBO</th>\n",
              "      <th>Qtd</th>\n",
              "    </tr>\n",
              "  </thead>\n",
              "  <tbody>\n",
              "    <tr>\n",
              "      <th>0</th>\n",
              "      <td>Não Classificado</td>\n",
              "      <td>8356</td>\n",
              "    </tr>\n",
              "    <tr>\n",
              "      <th>1</th>\n",
              "      <td>Técnico de enfermagem</td>\n",
              "      <td>5559</td>\n",
              "    </tr>\n",
              "    <tr>\n",
              "      <th>2</th>\n",
              "      <td>Alimentador de linha de produção</td>\n",
              "      <td>5155</td>\n",
              "    </tr>\n",
              "    <tr>\n",
              "      <th>3</th>\n",
              "      <td>Motorista de caminhão</td>\n",
              "      <td>1971</td>\n",
              "    </tr>\n",
              "    <tr>\n",
              "      <th>4</th>\n",
              "      <td>Servente de obras</td>\n",
              "      <td>1902</td>\n",
              "    </tr>\n",
              "  </tbody>\n",
              "</table>\n",
              "</div>"
            ],
            "text/plain": [
              "                                CBO   Qtd\n",
              "0                  Não Classificado  8356\n",
              "1             Técnico de enfermagem  5559\n",
              "2  Alimentador de linha de produção  5155\n",
              "3             Motorista de caminhão  1971\n",
              "4                 Servente de obras  1902"
            ]
          },
          "metadata": {
            "tags": []
          },
          "execution_count": 45
        }
      ]
    },
    {
      "cell_type": "code",
      "metadata": {
        "colab": {
          "base_uri": "https://localhost:8080/",
          "height": 319
        },
        "id": "oWCvKAAVXeDk",
        "outputId": "022f8221-3edf-4a48-af35-dffd5440687d"
      },
      "source": [
        "fig, ax = plt.subplots(figsize=(15, 5))\r\n",
        "wedges, texts = ax.pie(x=maiores_acidentados.Qtd, labels = maiores_acidentados.CBO)\r\n",
        "ax.set_title(\"Profissões com Maiores Números de Acidente\")\r\n",
        "bbox_props = dict(boxstyle=\"square,pad=0.3\", fc=\"w\", ec=\"k\", lw=0.72)\r\n"
      ],
      "execution_count": null,
      "outputs": [
        {
          "output_type": "display_data",
          "data": {
            "image/png": "[encoded data removed]",
            "text/plain": [
              "<Figure size 1080x360 with 1 Axes>"
            ]
          },
          "metadata": {
            "tags": []
          }
        }
      ]
    },
    {
      "cell_type": "markdown",
      "metadata": {
        "id": "O1Vrzp2MIl2H"
      },
      "source": [
        "#Tipo do Acidente"
      ]
    },
    {
      "cell_type": "code",
      "metadata": {
        "colab": {
          "base_uri": "https://localhost:8080/",
          "height": 206
        },
        "id": "G8NwGONOaz8R",
        "outputId": "9120409f-907c-4d2e-d118-b6b930c9e088"
      },
      "source": [
        "natuLesao = pd.DataFrame(dataPrev['Natureza da Lesão'])\r\n",
        "natuLesao.head()"
      ],
      "execution_count": null,
      "outputs": [
        {
          "output_type": "execute_result",
          "data": {
            "text/html": [
              "<div>\n",
              "<style scoped>\n",
              "    .dataframe tbody tr th:only-of-type {\n",
              "        vertical-align: middle;\n",
              "    }\n",
              "\n",
              "    .dataframe tbody tr th {\n",
              "        vertical-align: top;\n",
              "    }\n",
              "\n",
              "    .dataframe thead th {\n",
              "        text-align: right;\n",
              "    }\n",
              "</style>\n",
              "<table border=\"1\" class=\"dataframe\">\n",
              "  <thead>\n",
              "    <tr style=\"text-align: right;\">\n",
              "      <th></th>\n",
              "      <th>Natureza da Lesão</th>\n",
              "    </tr>\n",
              "  </thead>\n",
              "  <tbody>\n",
              "    <tr>\n",
              "      <th>0</th>\n",
              "      <td>Lesao Imediata</td>\n",
              "    </tr>\n",
              "    <tr>\n",
              "      <th>1</th>\n",
              "      <td>Corte, Laceracao, Fe</td>\n",
              "    </tr>\n",
              "    <tr>\n",
              "      <th>2</th>\n",
              "      <td>Corte, Laceracao, Fe</td>\n",
              "    </tr>\n",
              "    <tr>\n",
              "      <th>3</th>\n",
              "      <td>Corte, Laceracao, Fe</td>\n",
              "    </tr>\n",
              "    <tr>\n",
              "      <th>4</th>\n",
              "      <td>Corte, Laceracao, Fe</td>\n",
              "    </tr>\n",
              "  </tbody>\n",
              "</table>\n",
              "</div>"
            ],
            "text/plain": [
              "      Natureza da Lesão\n",
              "0  Lesao Imediata      \n",
              "1  Corte, Laceracao, Fe\n",
              "2  Corte, Laceracao, Fe\n",
              "3  Corte, Laceracao, Fe\n",
              "4  Corte, Laceracao, Fe"
            ]
          },
          "metadata": {
            "tags": []
          },
          "execution_count": 47
        }
      ]
    },
    {
      "cell_type": "code",
      "metadata": {
        "colab": {
          "base_uri": "https://localhost:8080/",
          "height": 144
        },
        "id": "_-O5y5AYa-L5",
        "outputId": "dd91e04d-517d-40b8-b19a-824fa87882f1"
      },
      "source": [
        "maiores_lesoes = natuLesao.value_counts().rename_axis('Natureza').reset_index(name='Qtd').head(3)\r\n",
        "maiores_lesoes"
      ],
      "execution_count": null,
      "outputs": [
        {
          "output_type": "execute_result",
          "data": {
            "text/html": [
              "<div>\n",
              "<style scoped>\n",
              "    .dataframe tbody tr th:only-of-type {\n",
              "        vertical-align: middle;\n",
              "    }\n",
              "\n",
              "    .dataframe tbody tr th {\n",
              "        vertical-align: top;\n",
              "    }\n",
              "\n",
              "    .dataframe thead th {\n",
              "        text-align: right;\n",
              "    }\n",
              "</style>\n",
              "<table border=\"1\" class=\"dataframe\">\n",
              "  <thead>\n",
              "    <tr style=\"text-align: right;\">\n",
              "      <th></th>\n",
              "      <th>Natureza</th>\n",
              "      <th>Qtd</th>\n",
              "    </tr>\n",
              "  </thead>\n",
              "  <tbody>\n",
              "    <tr>\n",
              "      <th>0</th>\n",
              "      <td>Corte, Laceracao, Fe</td>\n",
              "      <td>18545</td>\n",
              "    </tr>\n",
              "    <tr>\n",
              "      <th>1</th>\n",
              "      <td>Fratura</td>\n",
              "      <td>12747</td>\n",
              "    </tr>\n",
              "    <tr>\n",
              "      <th>2</th>\n",
              "      <td>Lesao Imediata, Nic</td>\n",
              "      <td>11130</td>\n",
              "    </tr>\n",
              "  </tbody>\n",
              "</table>\n",
              "</div>"
            ],
            "text/plain": [
              "               Natureza    Qtd\n",
              "0  Corte, Laceracao, Fe  18545\n",
              "1  Fratura               12747\n",
              "2  Lesao Imediata, Nic   11130"
            ]
          },
          "metadata": {
            "tags": []
          },
          "execution_count": 48
        }
      ]
    },
    {
      "cell_type": "markdown",
      "metadata": {
        "id": "A1Ed5smQMq_y"
      },
      "source": [
        "#Filiação"
      ]
    },
    {
      "cell_type": "code",
      "metadata": {
        "colab": {
          "base_uri": "https://localhost:8080/"
        },
        "id": "Dbl6MQa1bs5E",
        "outputId": "cd7d5c0d-a3cb-40e2-a0c5-937c0be4ff6b"
      },
      "source": [
        "filia = dataPrev['Filiação Segurado']\r\n",
        "filia.value_counts(normalize=True)"
      ],
      "execution_count": null,
      "outputs": [
        {
          "output_type": "execute_result",
          "data": {
            "text/plain": [
              "Empregado               0.996444\n",
              "Trabalhador Avulso      0.002560\n",
              "Segurado Especial       0.000886\n",
              "{ñ class}               0.000111\n",
              "Name: Filiação Segurado, dtype: float64"
            ]
          },
          "metadata": {
            "tags": []
          },
          "execution_count": 76
        }
      ]
    },
    {
      "cell_type": "code",
      "metadata": {
        "id": "Mp3NTEwsPSyr"
      },
      "source": [
        ""
      ],
      "execution_count": null,
      "outputs": []
    },
    {
      "cell_type": "markdown",
      "metadata": {
        "id": "ABE67ZghIrxw"
      },
      "source": [
        "#Estudo por Idade"
      ]
    },
    {
      "cell_type": "code",
      "metadata": {
        "colab": {
          "base_uri": "https://localhost:8080/",
          "height": 206
        },
        "id": "Hsx01nkTb8H7",
        "outputId": "22da8611-b4bb-4caa-962d-ec9b897600cf"
      },
      "source": [
        "idades = pd.DataFrame(dataPrev['Data Nascimento'])\r\n",
        "idades.columns = ['DataNascimento']\r\n",
        "idades.head()"
      ],
      "execution_count": null,
      "outputs": [
        {
          "output_type": "execute_result",
          "data": {
            "text/html": [
              "<div>\n",
              "<style scoped>\n",
              "    .dataframe tbody tr th:only-of-type {\n",
              "        vertical-align: middle;\n",
              "    }\n",
              "\n",
              "    .dataframe tbody tr th {\n",
              "        vertical-align: top;\n",
              "    }\n",
              "\n",
              "    .dataframe thead th {\n",
              "        text-align: right;\n",
              "    }\n",
              "</style>\n",
              "<table border=\"1\" class=\"dataframe\">\n",
              "  <thead>\n",
              "    <tr style=\"text-align: right;\">\n",
              "      <th></th>\n",
              "      <th>DataNascimento</th>\n",
              "    </tr>\n",
              "  </thead>\n",
              "  <tbody>\n",
              "    <tr>\n",
              "      <th>0</th>\n",
              "      <td>07/09/1977</td>\n",
              "    </tr>\n",
              "    <tr>\n",
              "      <th>1</th>\n",
              "      <td>27/11/1987</td>\n",
              "    </tr>\n",
              "    <tr>\n",
              "      <th>2</th>\n",
              "      <td>03/01/1983</td>\n",
              "    </tr>\n",
              "    <tr>\n",
              "      <th>3</th>\n",
              "      <td>08/10/1988</td>\n",
              "    </tr>\n",
              "    <tr>\n",
              "      <th>4</th>\n",
              "      <td>10/06/1976</td>\n",
              "    </tr>\n",
              "  </tbody>\n",
              "</table>\n",
              "</div>"
            ],
            "text/plain": [
              "  DataNascimento\n",
              "0     07/09/1977\n",
              "1     27/11/1987\n",
              "2     03/01/1983\n",
              "3     08/10/1988\n",
              "4     10/06/1976"
            ]
          },
          "metadata": {
            "tags": []
          },
          "execution_count": 50
        }
      ]
    },
    {
      "cell_type": "code",
      "metadata": {
        "colab": {
          "base_uri": "https://localhost:8080/",
          "height": 424
        },
        "id": "MLyX1M6QcTCO",
        "outputId": "dcb40752-f1ce-458b-9c6b-c45a4a6c6284"
      },
      "source": [
        "ano = idades.DataNascimento.str.split(\"/\",expand=True)\r\n",
        "ano.columns = ['Dia','Mes','Ano']\r\n",
        "ano"
      ],
      "execution_count": null,
      "outputs": [
        {
          "output_type": "execute_result",
          "data": {
            "text/html": [
              "<div>\n",
              "<style scoped>\n",
              "    .dataframe tbody tr th:only-of-type {\n",
              "        vertical-align: middle;\n",
              "    }\n",
              "\n",
              "    .dataframe tbody tr th {\n",
              "        vertical-align: top;\n",
              "    }\n",
              "\n",
              "    .dataframe thead th {\n",
              "        text-align: right;\n",
              "    }\n",
              "</style>\n",
              "<table border=\"1\" class=\"dataframe\">\n",
              "  <thead>\n",
              "    <tr style=\"text-align: right;\">\n",
              "      <th></th>\n",
              "      <th>Dia</th>\n",
              "      <th>Mes</th>\n",
              "      <th>Ano</th>\n",
              "    </tr>\n",
              "  </thead>\n",
              "  <tbody>\n",
              "    <tr>\n",
              "      <th>0</th>\n",
              "      <td>07</td>\n",
              "      <td>09</td>\n",
              "      <td>1977</td>\n",
              "    </tr>\n",
              "    <tr>\n",
              "      <th>1</th>\n",
              "      <td>27</td>\n",
              "      <td>11</td>\n",
              "      <td>1987</td>\n",
              "    </tr>\n",
              "    <tr>\n",
              "      <th>2</th>\n",
              "      <td>03</td>\n",
              "      <td>01</td>\n",
              "      <td>1983</td>\n",
              "    </tr>\n",
              "    <tr>\n",
              "      <th>3</th>\n",
              "      <td>08</td>\n",
              "      <td>10</td>\n",
              "      <td>1988</td>\n",
              "    </tr>\n",
              "    <tr>\n",
              "      <th>4</th>\n",
              "      <td>10</td>\n",
              "      <td>06</td>\n",
              "      <td>1976</td>\n",
              "    </tr>\n",
              "    <tr>\n",
              "      <th>...</th>\n",
              "      <td>...</td>\n",
              "      <td>...</td>\n",
              "      <td>...</td>\n",
              "    </tr>\n",
              "    <tr>\n",
              "      <th>81259</th>\n",
              "      <td>12</td>\n",
              "      <td>04</td>\n",
              "      <td>1979</td>\n",
              "    </tr>\n",
              "    <tr>\n",
              "      <th>81260</th>\n",
              "      <td>18</td>\n",
              "      <td>04</td>\n",
              "      <td>1994</td>\n",
              "    </tr>\n",
              "    <tr>\n",
              "      <th>81261</th>\n",
              "      <td>18</td>\n",
              "      <td>09</td>\n",
              "      <td>1976</td>\n",
              "    </tr>\n",
              "    <tr>\n",
              "      <th>81262</th>\n",
              "      <td>21</td>\n",
              "      <td>07</td>\n",
              "      <td>1985</td>\n",
              "    </tr>\n",
              "    <tr>\n",
              "      <th>81263</th>\n",
              "      <td>12</td>\n",
              "      <td>04</td>\n",
              "      <td>1983</td>\n",
              "    </tr>\n",
              "  </tbody>\n",
              "</table>\n",
              "<p>81264 rows × 3 columns</p>\n",
              "</div>"
            ],
            "text/plain": [
              "      Dia Mes   Ano\n",
              "0      07  09  1977\n",
              "1      27  11  1987\n",
              "2      03  01  1983\n",
              "3      08  10  1988\n",
              "4      10  06  1976\n",
              "...    ..  ..   ...\n",
              "81259  12  04  1979\n",
              "81260  18  04  1994\n",
              "81261  18  09  1976\n",
              "81262  21  07  1985\n",
              "81263  12  04  1983\n",
              "\n",
              "[81264 rows x 3 columns]"
            ]
          },
          "metadata": {
            "tags": []
          },
          "execution_count": 51
        }
      ]
    },
    {
      "cell_type": "code",
      "metadata": {
        "id": "HDioZp_BjLds"
      },
      "source": [
        "ano.Ano = pd.to_numeric(ano.Ano)"
      ],
      "execution_count": null,
      "outputs": []
    },
    {
      "cell_type": "code",
      "metadata": {
        "colab": {
          "base_uri": "https://localhost:8080/",
          "height": 424
        },
        "id": "ecoaFMqVi0yK",
        "outputId": "659b9e60-91ca-45f8-ecf7-c4929badb883"
      },
      "source": [
        "ano['IdadeAtual'] = 2020 - ano.Ano\r\n",
        "ano"
      ],
      "execution_count": null,
      "outputs": [
        {
          "output_type": "execute_result",
          "data": {
            "text/html": [
              "<div>\n",
              "<style scoped>\n",
              "    .dataframe tbody tr th:only-of-type {\n",
              "        vertical-align: middle;\n",
              "    }\n",
              "\n",
              "    .dataframe tbody tr th {\n",
              "        vertical-align: top;\n",
              "    }\n",
              "\n",
              "    .dataframe thead th {\n",
              "        text-align: right;\n",
              "    }\n",
              "</style>\n",
              "<table border=\"1\" class=\"dataframe\">\n",
              "  <thead>\n",
              "    <tr style=\"text-align: right;\">\n",
              "      <th></th>\n",
              "      <th>Dia</th>\n",
              "      <th>Mes</th>\n",
              "      <th>Ano</th>\n",
              "      <th>IdadeAtual</th>\n",
              "    </tr>\n",
              "  </thead>\n",
              "  <tbody>\n",
              "    <tr>\n",
              "      <th>0</th>\n",
              "      <td>07</td>\n",
              "      <td>09</td>\n",
              "      <td>1977</td>\n",
              "      <td>43</td>\n",
              "    </tr>\n",
              "    <tr>\n",
              "      <th>1</th>\n",
              "      <td>27</td>\n",
              "      <td>11</td>\n",
              "      <td>1987</td>\n",
              "      <td>33</td>\n",
              "    </tr>\n",
              "    <tr>\n",
              "      <th>2</th>\n",
              "      <td>03</td>\n",
              "      <td>01</td>\n",
              "      <td>1983</td>\n",
              "      <td>37</td>\n",
              "    </tr>\n",
              "    <tr>\n",
              "      <th>3</th>\n",
              "      <td>08</td>\n",
              "      <td>10</td>\n",
              "      <td>1988</td>\n",
              "      <td>32</td>\n",
              "    </tr>\n",
              "    <tr>\n",
              "      <th>4</th>\n",
              "      <td>10</td>\n",
              "      <td>06</td>\n",
              "      <td>1976</td>\n",
              "      <td>44</td>\n",
              "    </tr>\n",
              "    <tr>\n",
              "      <th>...</th>\n",
              "      <td>...</td>\n",
              "      <td>...</td>\n",
              "      <td>...</td>\n",
              "      <td>...</td>\n",
              "    </tr>\n",
              "    <tr>\n",
              "      <th>81259</th>\n",
              "      <td>12</td>\n",
              "      <td>04</td>\n",
              "      <td>1979</td>\n",
              "      <td>41</td>\n",
              "    </tr>\n",
              "    <tr>\n",
              "      <th>81260</th>\n",
              "      <td>18</td>\n",
              "      <td>04</td>\n",
              "      <td>1994</td>\n",
              "      <td>26</td>\n",
              "    </tr>\n",
              "    <tr>\n",
              "      <th>81261</th>\n",
              "      <td>18</td>\n",
              "      <td>09</td>\n",
              "      <td>1976</td>\n",
              "      <td>44</td>\n",
              "    </tr>\n",
              "    <tr>\n",
              "      <th>81262</th>\n",
              "      <td>21</td>\n",
              "      <td>07</td>\n",
              "      <td>1985</td>\n",
              "      <td>35</td>\n",
              "    </tr>\n",
              "    <tr>\n",
              "      <th>81263</th>\n",
              "      <td>12</td>\n",
              "      <td>04</td>\n",
              "      <td>1983</td>\n",
              "      <td>37</td>\n",
              "    </tr>\n",
              "  </tbody>\n",
              "</table>\n",
              "<p>81264 rows × 4 columns</p>\n",
              "</div>"
            ],
            "text/plain": [
              "      Dia Mes   Ano  IdadeAtual\n",
              "0      07  09  1977          43\n",
              "1      27  11  1987          33\n",
              "2      03  01  1983          37\n",
              "3      08  10  1988          32\n",
              "4      10  06  1976          44\n",
              "...    ..  ..   ...         ...\n",
              "81259  12  04  1979          41\n",
              "81260  18  04  1994          26\n",
              "81261  18  09  1976          44\n",
              "81262  21  07  1985          35\n",
              "81263  12  04  1983          37\n",
              "\n",
              "[81264 rows x 4 columns]"
            ]
          },
          "metadata": {
            "tags": []
          },
          "execution_count": 53
        }
      ]
    },
    {
      "cell_type": "code",
      "metadata": {
        "colab": {
          "base_uri": "https://localhost:8080/",
          "height": 424
        },
        "id": "2zIIP8tmjjmV",
        "outputId": "35043a7c-bb08-4768-8939-c2e54d609077"
      },
      "source": [
        "filtro_outliers = ano.query(\"IdadeAtual < 100 & IdadeAtual > 10\")\r\n",
        "filtro_outliers.reset_index()"
      ],
      "execution_count": null,
      "outputs": [
        {
          "output_type": "execute_result",
          "data": {
            "text/html": [
              "<div>\n",
              "<style scoped>\n",
              "    .dataframe tbody tr th:only-of-type {\n",
              "        vertical-align: middle;\n",
              "    }\n",
              "\n",
              "    .dataframe tbody tr th {\n",
              "        vertical-align: top;\n",
              "    }\n",
              "\n",
              "    .dataframe thead th {\n",
              "        text-align: right;\n",
              "    }\n",
              "</style>\n",
              "<table border=\"1\" class=\"dataframe\">\n",
              "  <thead>\n",
              "    <tr style=\"text-align: right;\">\n",
              "      <th></th>\n",
              "      <th>index</th>\n",
              "      <th>Dia</th>\n",
              "      <th>Mes</th>\n",
              "      <th>Ano</th>\n",
              "      <th>IdadeAtual</th>\n",
              "    </tr>\n",
              "  </thead>\n",
              "  <tbody>\n",
              "    <tr>\n",
              "      <th>0</th>\n",
              "      <td>0</td>\n",
              "      <td>07</td>\n",
              "      <td>09</td>\n",
              "      <td>1977</td>\n",
              "      <td>43</td>\n",
              "    </tr>\n",
              "    <tr>\n",
              "      <th>1</th>\n",
              "      <td>1</td>\n",
              "      <td>27</td>\n",
              "      <td>11</td>\n",
              "      <td>1987</td>\n",
              "      <td>33</td>\n",
              "    </tr>\n",
              "    <tr>\n",
              "      <th>2</th>\n",
              "      <td>2</td>\n",
              "      <td>03</td>\n",
              "      <td>01</td>\n",
              "      <td>1983</td>\n",
              "      <td>37</td>\n",
              "    </tr>\n",
              "    <tr>\n",
              "      <th>3</th>\n",
              "      <td>3</td>\n",
              "      <td>08</td>\n",
              "      <td>10</td>\n",
              "      <td>1988</td>\n",
              "      <td>32</td>\n",
              "    </tr>\n",
              "    <tr>\n",
              "      <th>4</th>\n",
              "      <td>4</td>\n",
              "      <td>10</td>\n",
              "      <td>06</td>\n",
              "      <td>1976</td>\n",
              "      <td>44</td>\n",
              "    </tr>\n",
              "    <tr>\n",
              "      <th>...</th>\n",
              "      <td>...</td>\n",
              "      <td>...</td>\n",
              "      <td>...</td>\n",
              "      <td>...</td>\n",
              "      <td>...</td>\n",
              "    </tr>\n",
              "    <tr>\n",
              "      <th>81211</th>\n",
              "      <td>81259</td>\n",
              "      <td>12</td>\n",
              "      <td>04</td>\n",
              "      <td>1979</td>\n",
              "      <td>41</td>\n",
              "    </tr>\n",
              "    <tr>\n",
              "      <th>81212</th>\n",
              "      <td>81260</td>\n",
              "      <td>18</td>\n",
              "      <td>04</td>\n",
              "      <td>1994</td>\n",
              "      <td>26</td>\n",
              "    </tr>\n",
              "    <tr>\n",
              "      <th>81213</th>\n",
              "      <td>81261</td>\n",
              "      <td>18</td>\n",
              "      <td>09</td>\n",
              "      <td>1976</td>\n",
              "      <td>44</td>\n",
              "    </tr>\n",
              "    <tr>\n",
              "      <th>81214</th>\n",
              "      <td>81262</td>\n",
              "      <td>21</td>\n",
              "      <td>07</td>\n",
              "      <td>1985</td>\n",
              "      <td>35</td>\n",
              "    </tr>\n",
              "    <tr>\n",
              "      <th>81215</th>\n",
              "      <td>81263</td>\n",
              "      <td>12</td>\n",
              "      <td>04</td>\n",
              "      <td>1983</td>\n",
              "      <td>37</td>\n",
              "    </tr>\n",
              "  </tbody>\n",
              "</table>\n",
              "<p>81216 rows × 5 columns</p>\n",
              "</div>"
            ],
            "text/plain": [
              "       index Dia Mes   Ano  IdadeAtual\n",
              "0          0  07  09  1977          43\n",
              "1          1  27  11  1987          33\n",
              "2          2  03  01  1983          37\n",
              "3          3  08  10  1988          32\n",
              "4          4  10  06  1976          44\n",
              "...      ...  ..  ..   ...         ...\n",
              "81211  81259  12  04  1979          41\n",
              "81212  81260  18  04  1994          26\n",
              "81213  81261  18  09  1976          44\n",
              "81214  81262  21  07  1985          35\n",
              "81215  81263  12  04  1983          37\n",
              "\n",
              "[81216 rows x 5 columns]"
            ]
          },
          "metadata": {
            "tags": []
          },
          "execution_count": 54
        }
      ]
    },
    {
      "cell_type": "code",
      "metadata": {
        "colab": {
          "base_uri": "https://localhost:8080/"
        },
        "id": "VGEUxL2zJRQ-",
        "outputId": "5f570382-1c7a-482a-d404-5c9cb935e6a0"
      },
      "source": [
        "filtro_outliers.IdadeAtual.describe()"
      ],
      "execution_count": null,
      "outputs": [
        {
          "output_type": "execute_result",
          "data": {
            "text/plain": [
              "count    81216.000000\n",
              "mean        36.737823\n",
              "std         11.261633\n",
              "min         15.000000\n",
              "25%         28.000000\n",
              "50%         35.000000\n",
              "75%         44.000000\n",
              "max         86.000000\n",
              "Name: IdadeAtual, dtype: float64"
            ]
          },
          "metadata": {
            "tags": []
          },
          "execution_count": 59
        }
      ]
    },
    {
      "cell_type": "code",
      "metadata": {
        "colab": {
          "base_uri": "https://localhost:8080/",
          "height": 300
        },
        "id": "tjh19bakJr-_",
        "outputId": "7f9ed98e-a990-4e91-959f-6c38d48405e6"
      },
      "source": [
        "sns.boxplot(filtro_outliers.IdadeAtual)"
      ],
      "execution_count": null,
      "outputs": [
        {
          "output_type": "stream",
          "text": [
            "/usr/local/lib/python3.6/dist-packages/seaborn/_decorators.py:43: FutureWarning: Pass the following variable as a keyword arg: x. From version 0.12, the only valid positional argument will be `data`, and passing other arguments without an explicit keyword will result in an error or misinterpretation.\n",
            "  FutureWarning\n"
          ],
          "name": "stderr"
        },
        {
          "output_type": "execute_result",
          "data": {
            "text/plain": [
              "<matplotlib.axes._subplots.AxesSubplot at 0x7fd04088c668>"
            ]
          },
          "metadata": {
            "tags": []
          },
          "execution_count": 67
        },
        {
          "output_type": "display_data",
          "data": {
            "image/png": "[encoded data removed]",
            "text/plain": [
              "<Figure size 1440x216 with 1 Axes>"
            ]
          },
          "metadata": {
            "tags": [],
            "needs_background": "light"
          }
        }
      ]
    },
    {
      "cell_type": "code",
      "metadata": {
        "id": "uMm-8Bdfj9a7"
      },
      "source": [
        "import seaborn as sns"
      ],
      "execution_count": null,
      "outputs": []
    },
    {
      "cell_type": "code",
      "metadata": {
        "colab": {
          "base_uri": "https://localhost:8080/",
          "height": 259
        },
        "id": "9TyeMzLBkAKX",
        "outputId": "eab356dc-73d0-4264-b2af-c8ec523097f5"
      },
      "source": [
        "ax = sns.histplot(filtro_outliers.IdadeAtual,bins=7)\r\n",
        "ax.set_title('Distribuição de Idade em Número de Acidentes')\r\n",
        "ax.set_ylabel('')\r\n",
        "ax.set_xlabel('Idade no 1º trimestre de 2020')\r\n",
        "ax.set(xlim=(filtro_outliers.IdadeAtual.min()-1,filtro_outliers.IdadeAtual.max()))"
      ],
      "execution_count": null,
      "outputs": [
        {
          "output_type": "execute_result",
          "data": {
            "text/plain": [
              "[(14.0, 86.0)]"
            ]
          },
          "metadata": {
            "tags": []
          },
          "execution_count": 71
        },
        {
          "output_type": "display_data",
          "data": {
            "image/png": "[encoded data removed]",
            "text/plain": [
              "<Figure size 1440x216 with 1 Axes>"
            ]
          },
          "metadata": {
            "tags": [],
            "needs_background": "light"
          }
        }
      ]
    },
    {
      "cell_type": "code",
      "metadata": {
        "colab": {
          "base_uri": "https://localhost:8080/"
        },
        "id": "dAW0DV_Flnvz",
        "outputId": "4b923390-7dfc-4a56-ab18-4d05521cb53b"
      },
      "source": [
        "filtro_outliers.IdadeAtual.value_counts()"
      ],
      "execution_count": null,
      "outputs": [
        {
          "output_type": "execute_result",
          "data": {
            "text/plain": [
              "31    2687\n",
              "26    2664\n",
              "33    2635\n",
              "27    2622\n",
              "35    2599\n",
              "      ... \n",
              "80       4\n",
              "82       4\n",
              "15       3\n",
              "84       2\n",
              "86       1\n",
              "Name: IdadeAtual, Length: 69, dtype: int64"
            ]
          },
          "metadata": {
            "tags": []
          },
          "execution_count": 58
        }
      ]
    },
    {
      "cell_type": "markdown",
      "metadata": {
        "id": "PG0OuD32IukT"
      },
      "source": [
        "#Emissão da CAT"
      ]
    },
    {
      "cell_type": "code",
      "metadata": {
        "id": "XnIkxd0Gyqu6"
      },
      "source": [
        ""
      ],
      "execution_count": null,
      "outputs": []
    },
    {
      "cell_type": "code",
      "metadata": {
        "id": "EiwXNPyPPQfb"
      },
      "source": [
        ""
      ],
      "execution_count": null,
      "outputs": []
    }
  ]
}